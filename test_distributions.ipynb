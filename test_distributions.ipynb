{
 "cells": [
  {
   "cell_type": "code",
   "execution_count": 1,
   "metadata": {},
   "outputs": [],
   "source": [
    "from sample_size_experiment import *"
   ]
  },
  {
   "cell_type": "code",
   "execution_count": 2,
   "metadata": {},
   "outputs": [],
   "source": [
    "%matplotlib inline\n",
    "import numpy as np\n",
    "import pandas as pd\n",
    "import matplotlib.pyplot as plt\n",
    "import random\n",
    "from IPython.display import display\n",
    "\n",
    "from sklearn.metrics import accuracy_score\n",
    "from tensorflow.keras.utils import to_categorical"
   ]
  },
  {
   "cell_type": "markdown",
   "metadata": {},
   "source": [
    "## Iris Dataset (Test Functionality)\n",
    "\n",
    "Run each model on a small sample dataset"
   ]
  },
  {
   "cell_type": "code",
   "execution_count": 3,
   "metadata": {},
   "outputs": [],
   "source": [
    "from random import sample\n",
    "\n",
    "def random_sample(X, y, samples):\n",
    "    \n",
    "    ordered_indices = [num for num in range(samples)]\n",
    "    random_indices = sample(ordered_indices, samples)\n",
    "\n",
    "    X = X[random_indices]\n",
    "    y = y[random_indices]\n",
    "\n",
    "    return X, y"
   ]
  },
  {
   "cell_type": "code",
   "execution_count": null,
   "metadata": {},
   "outputs": [],
   "source": [
    "from sklearn.datasets import load_iris\n",
    "from sklearn.model_selection import train_test_split\n",
    "\n",
    "data = load_iris()\n",
    "\n",
    "X = np.array(data['data'], dtype=np.float32)\n",
    "y = np.array(data['target'], dtype=np.float32)\n",
    "\n",
    "random_forest_classification_errors = []\n",
    "parametric_dnn_classification_errors = []\n",
    "\n",
    "for max_sample_size in range(30,X.shape[0],10):\n",
    "    \n",
    "    X_scaled, y_scaled = random_sample(X, y, max_sample_size)\n",
    "    X_train, X_test, y_train, y_test = train_test_split(X_scaled, y_scaled, test_size=0.3, random_state=101)\n",
    "\n",
    "    rf_model = random_forest_classifier_model(X_train = X_train,\n",
    "                                              y_train = y_train, \n",
    "                                              num_trees = 20, \n",
    "                                              max_depth = None, \n",
    "                                              verbose = 1\n",
    "                                             )\n",
    "    rf_predictions = rf_model.predict(X_test)\n",
    "    rf_error = 1 - accuracy_score(y_test, rf_predictions)\n",
    "\n",
    "    random_forest_classification_errors.append(rf_error)\n",
    "    \n",
    "    y_train=to_categorical(y_train,num_classes=3)\n",
    "    y_test=to_categorical(y_test,num_classes=3)\n",
    "\n",
    "    dnn_model = parametric_deep_neural_network(X_train = X_train,\n",
    "                                               y_train = y_train, \n",
    "                                               epochs = 20,\n",
    "                                               batch_size = 1, \n",
    "                                               learning_rate = 0.001,\n",
    "                                               validation_split = 0.3,\n",
    "                                               verbose = 1\n",
    "                                              )\n",
    "\n",
    "    score = dnn_model.evaluate(X_test, y_test, batch_size=None, verbose=0, sample_weight=None, steps=None,\n",
    "                    callbacks=None, max_queue_size=10, workers=1, use_multiprocessing=False,\n",
    "                    return_dict=False)\n",
    "\n",
    "    dnn_error = 1 - score[1]\n",
    "    parametric_dnn_classification_errors.append(dnn_error)"
   ]
  },
  {
   "cell_type": "code",
   "execution_count": 12,
   "metadata": {},
   "outputs": [
    {
     "data": {
      "text/plain": [
       "<matplotlib.legend.Legend at 0x7fdc210d9390>"
      ]
     },
     "execution_count": 12,
     "metadata": {},
     "output_type": "execute_result"
    },
    {
     "data": {
      "image/png": "[encoded data removed]",
      "text/plain": [
       "<Figure size 720x504 with 1 Axes>"
      ]
     },
     "metadata": {
      "needs_background": "light"
     },
     "output_type": "display_data"
    }
   ],
   "source": [
    "plt.figure(figsize = (10,7))\n",
    "plt.plot(range(30,X.shape[0],10), random_forest_classification_errors, color= 'r')\n",
    "plt.plot(range(30,X.shape[0],10), parametric_dnn_classification_errors, color= 'b')\n",
    "plt.title('Iris Dataset Classification', fontsize=14)\n",
    "plt.ylabel('Classification Error', fontsize=14)\n",
    "plt.xlabel('Number of Training Samples', fontsize=14)\n",
    "plt.legend(['RF', 'DN'], prop={'size': 16})"
   ]
  },
  {
   "cell_type": "markdown",
   "metadata": {},
   "source": [
    "## Sparce Parity Dataset Creation"
   ]
  },
  {
   "cell_type": "code",
   "execution_count": 4,
   "metadata": {},
   "outputs": [],
   "source": [
    "X_parity = np.random.uniform(-1,1,[30000,20])"
   ]
  },
  {
   "cell_type": "code",
   "execution_count": 5,
   "metadata": {},
   "outputs": [],
   "source": [
    "def sparce_parity_labels(X, p_star):\n",
    "    q = np.zeros(X.shape[0])\n",
    "    y = np.where(X[:,:3] >= 0, 1, 0)\n",
    "    return np.sum(y, axis = 1) % 2"
   ]
  },
  {
   "cell_type": "code",
   "execution_count": 6,
   "metadata": {},
   "outputs": [],
   "source": [
    "y_parity = sparce_parity_labels(X_parity, 3)"
   ]
  },
  {
   "cell_type": "code",
   "execution_count": 7,
   "metadata": {},
   "outputs": [
    {
     "data": {
      "text/plain": [
       "(30000, 20)"
      ]
     },
     "execution_count": 7,
     "metadata": {},
     "output_type": "execute_result"
    }
   ],
   "source": [
    "np.array(X_parity, dtype=np.float32).shape"
   ]
  },
  {
   "cell_type": "code",
   "execution_count": 8,
   "metadata": {},
   "outputs": [
    {
     "name": "stdout",
     "output_type": "stream",
     "text": [
      "0\n",
      "500\n",
      "Epoch 1/10\n"
     ]
    },
    {
     "name": "stderr",
     "output_type": "stream",
     "text": [
      "[Parallel(n_jobs=1)]: Using backend SequentialBackend with 1 concurrent workers.\n",
      "[Parallel(n_jobs=1)]: Done  64 out of  64 | elapsed:    0.1s finished\n",
      "[Parallel(n_jobs=1)]: Using backend SequentialBackend with 1 concurrent workers.\n",
      "[Parallel(n_jobs=1)]: Done  64 out of  64 | elapsed:    0.0s finished\n"
     ]
    },
    {
     "name": "stdout",
     "output_type": "stream",
     "text": [
      "244/244 [==============================] - 0s 1ms/step - loss: 0.7036 - accuracy: 0.4508 - val_loss: 0.6927 - val_accuracy: 0.5377\n",
      "Epoch 2/10\n",
      "244/244 [==============================] - 0s 812us/step - loss: 0.6966 - accuracy: 0.5164 - val_loss: 0.6931 - val_accuracy: 0.5283\n",
      "Epoch 3/10\n",
      "244/244 [==============================] - 0s 811us/step - loss: 0.6926 - accuracy: 0.5656 - val_loss: 0.6948 - val_accuracy: 0.5283\n",
      "Epoch 4/10\n",
      "244/244 [==============================] - 0s 809us/step - loss: 0.6893 - accuracy: 0.5656 - val_loss: 0.6955 - val_accuracy: 0.5377\n",
      "Epoch 5/10\n",
      "244/244 [==============================] - 0s 809us/step - loss: 0.6851 - accuracy: 0.5697 - val_loss: 0.6968 - val_accuracy: 0.5472\n",
      "Epoch 6/10\n",
      "244/244 [==============================] - 0s 813us/step - loss: 0.6801 - accuracy: 0.6066 - val_loss: 0.7001 - val_accuracy: 0.5377\n",
      "Epoch 7/10\n",
      "244/244 [==============================] - 0s 805us/step - loss: 0.6742 - accuracy: 0.6148 - val_loss: 0.7003 - val_accuracy: 0.5094\n",
      "Epoch 8/10\n",
      "244/244 [==============================] - 0s 799us/step - loss: 0.6668 - accuracy: 0.6352 - val_loss: 0.7017 - val_accuracy: 0.5094\n",
      "Epoch 9/10\n",
      "244/244 [==============================] - 0s 834us/step - loss: 0.6576 - accuracy: 0.6352 - val_loss: 0.7019 - val_accuracy: 0.5189\n",
      "Epoch 10/10\n",
      "244/244 [==============================] - 0s 791us/step - loss: 0.6494 - accuracy: 0.6557 - val_loss: 0.7036 - val_accuracy: 0.5566\n",
      "1000\n",
      "Epoch 1/10\n"
     ]
    },
    {
     "name": "stderr",
     "output_type": "stream",
     "text": [
      "[Parallel(n_jobs=1)]: Using backend SequentialBackend with 1 concurrent workers.\n",
      "[Parallel(n_jobs=1)]: Done  64 out of  64 | elapsed:    0.1s finished\n",
      "[Parallel(n_jobs=1)]: Using backend SequentialBackend with 1 concurrent workers.\n",
      "[Parallel(n_jobs=1)]: Done  64 out of  64 | elapsed:    0.0s finished\n"
     ]
    },
    {
     "name": "stdout",
     "output_type": "stream",
     "text": [
      "489/489 [==============================] - 0s 900us/step - loss: 0.7242 - accuracy: 0.4663 - val_loss: 0.6992 - val_accuracy: 0.5213\n",
      "Epoch 2/10\n",
      "489/489 [==============================] - 0s 778us/step - loss: 0.6991 - accuracy: 0.5194 - val_loss: 0.6918 - val_accuracy: 0.5735\n",
      "Epoch 3/10\n",
      "489/489 [==============================] - 0s 767us/step - loss: 0.6896 - accuracy: 0.5460 - val_loss: 0.6900 - val_accuracy: 0.5498\n",
      "Epoch 4/10\n",
      "489/489 [==============================] - 0s 863us/step - loss: 0.6840 - accuracy: 0.5542 - val_loss: 0.6851 - val_accuracy: 0.5877\n",
      "Epoch 5/10\n",
      "489/489 [==============================] - 0s 811us/step - loss: 0.6763 - accuracy: 0.5828 - val_loss: 0.6842 - val_accuracy: 0.5687\n",
      "Epoch 6/10\n",
      "489/489 [==============================] - 0s 759us/step - loss: 0.6687 - accuracy: 0.5930 - val_loss: 0.6816 - val_accuracy: 0.5498\n",
      "Epoch 7/10\n",
      "489/489 [==============================] - 0s 764us/step - loss: 0.6602 - accuracy: 0.6176 - val_loss: 0.6849 - val_accuracy: 0.5450\n",
      "Epoch 8/10\n",
      "489/489 [==============================] - 0s 776us/step - loss: 0.6517 - accuracy: 0.6196 - val_loss: 0.6849 - val_accuracy: 0.5498\n",
      "Epoch 9/10\n",
      "489/489 [==============================] - 0s 771us/step - loss: 0.6453 - accuracy: 0.6155 - val_loss: 0.6851 - val_accuracy: 0.5545\n",
      "Epoch 10/10\n",
      "489/489 [==============================] - 0s 791us/step - loss: 0.6369 - accuracy: 0.6339 - val_loss: 0.6869 - val_accuracy: 0.5450\n",
      "2000\n"
     ]
    },
    {
     "name": "stderr",
     "output_type": "stream",
     "text": [
      "[Parallel(n_jobs=1)]: Using backend SequentialBackend with 1 concurrent workers.\n",
      "[Parallel(n_jobs=1)]: Done  64 out of  64 | elapsed:    0.2s finished\n",
      "[Parallel(n_jobs=1)]: Using backend SequentialBackend with 1 concurrent workers.\n",
      "[Parallel(n_jobs=1)]: Done  64 out of  64 | elapsed:    0.0s finished\n"
     ]
    },
    {
     "name": "stdout",
     "output_type": "stream",
     "text": [
      "Epoch 1/10\n",
      "979/979 [==============================] - 1s 818us/step - loss: 0.6967 - accuracy: 0.4760 - val_loss: 0.6956 - val_accuracy: 0.5178\n",
      "Epoch 2/10\n",
      "979/979 [==============================] - 1s 779us/step - loss: 0.6908 - accuracy: 0.5158 - val_loss: 0.6936 - val_accuracy: 0.5558\n",
      "Epoch 3/10\n",
      "979/979 [==============================] - 1s 729us/step - loss: 0.6876 - accuracy: 0.5352 - val_loss: 0.6948 - val_accuracy: 0.5273\n",
      "Epoch 4/10\n",
      "979/979 [==============================] - 1s 734us/step - loss: 0.6834 - accuracy: 0.5373 - val_loss: 0.7005 - val_accuracy: 0.5178\n",
      "Epoch 5/10\n",
      "979/979 [==============================] - 1s 743us/step - loss: 0.6795 - accuracy: 0.5741 - val_loss: 0.7012 - val_accuracy: 0.5107\n",
      "Epoch 6/10\n",
      "979/979 [==============================] - 1s 779us/step - loss: 0.6745 - accuracy: 0.5812 - val_loss: 0.7025 - val_accuracy: 0.5083\n",
      "Epoch 7/10\n",
      "979/979 [==============================] - 1s 771us/step - loss: 0.6687 - accuracy: 0.5812 - val_loss: 0.7024 - val_accuracy: 0.5131\n",
      "Epoch 8/10\n",
      "979/979 [==============================] - 1s 751us/step - loss: 0.6636 - accuracy: 0.5955 - val_loss: 0.7124 - val_accuracy: 0.5083\n",
      "Epoch 9/10\n",
      "979/979 [==============================] - 1s 774us/step - loss: 0.6560 - accuracy: 0.6057 - val_loss: 0.7178 - val_accuracy: 0.5249\n",
      "Epoch 10/10\n",
      "979/979 [==============================] - 1s 792us/step - loss: 0.6481 - accuracy: 0.6190 - val_loss: 0.7337 - val_accuracy: 0.4988\n",
      "3000\n"
     ]
    },
    {
     "name": "stderr",
     "output_type": "stream",
     "text": [
      "[Parallel(n_jobs=1)]: Using backend SequentialBackend with 1 concurrent workers.\n",
      "[Parallel(n_jobs=1)]: Done  64 out of  64 | elapsed:    0.3s finished\n",
      "[Parallel(n_jobs=1)]: Using backend SequentialBackend with 1 concurrent workers.\n",
      "[Parallel(n_jobs=1)]: Done  64 out of  64 | elapsed:    0.0s finished\n"
     ]
    },
    {
     "name": "stdout",
     "output_type": "stream",
     "text": [
      "Epoch 1/10\n",
      "1470/1470 [==============================] - 1s 791us/step - loss: 0.6934 - accuracy: 0.5143 - val_loss: 0.6982 - val_accuracy: 0.4762\n",
      "Epoch 2/10\n",
      "1470/1470 [==============================] - 1s 750us/step - loss: 0.6851 - accuracy: 0.5633 - val_loss: 0.7014 - val_accuracy: 0.4794\n",
      "Epoch 3/10\n",
      "1470/1470 [==============================] - 1s 775us/step - loss: 0.6794 - accuracy: 0.5776 - val_loss: 0.6994 - val_accuracy: 0.5032\n",
      "Epoch 4/10\n",
      "1470/1470 [==============================] - 1s 784us/step - loss: 0.6728 - accuracy: 0.5857 - val_loss: 0.7000 - val_accuracy: 0.5190\n",
      "Epoch 5/10\n",
      "1470/1470 [==============================] - 1s 777us/step - loss: 0.6637 - accuracy: 0.6041 - val_loss: 0.6982 - val_accuracy: 0.5413\n",
      "Epoch 6/10\n",
      "1470/1470 [==============================] - 1s 762us/step - loss: 0.6541 - accuracy: 0.6082 - val_loss: 0.6996 - val_accuracy: 0.5317\n",
      "Epoch 7/10\n",
      "1470/1470 [==============================] - 1s 753us/step - loss: 0.6401 - accuracy: 0.6361 - val_loss: 0.6811 - val_accuracy: 0.5730\n",
      "Epoch 8/10\n",
      "1470/1470 [==============================] - 1s 785us/step - loss: 0.6244 - accuracy: 0.6578 - val_loss: 0.6730 - val_accuracy: 0.5905\n",
      "Epoch 9/10\n",
      "1470/1470 [==============================] - 1s 767us/step - loss: 0.6084 - accuracy: 0.6782 - val_loss: 0.6613 - val_accuracy: 0.5889\n",
      "Epoch 10/10\n",
      "1470/1470 [==============================] - 1s 769us/step - loss: 0.5905 - accuracy: 0.6939 - val_loss: 0.6478 - val_accuracy: 0.6222\n",
      "5000\n"
     ]
    },
    {
     "name": "stderr",
     "output_type": "stream",
     "text": [
      "[Parallel(n_jobs=1)]: Using backend SequentialBackend with 1 concurrent workers.\n",
      "[Parallel(n_jobs=1)]: Done  64 out of  64 | elapsed:    0.6s finished\n",
      "[Parallel(n_jobs=1)]: Using backend SequentialBackend with 1 concurrent workers.\n",
      "[Parallel(n_jobs=1)]: Done  64 out of  64 | elapsed:    0.0s finished\n"
     ]
    },
    {
     "name": "stdout",
     "output_type": "stream",
     "text": [
      "Epoch 1/10\n",
      "2450/2450 [==============================] - 2s 787us/step - loss: 0.6998 - accuracy: 0.4955 - val_loss: 0.6929 - val_accuracy: 0.5010\n",
      "Epoch 2/10\n",
      "2450/2450 [==============================] - 2s 760us/step - loss: 0.6906 - accuracy: 0.5294 - val_loss: 0.6947 - val_accuracy: 0.4914\n",
      "Epoch 3/10\n",
      "2450/2450 [==============================] - 2s 775us/step - loss: 0.6865 - accuracy: 0.5518 - val_loss: 0.6906 - val_accuracy: 0.5171\n",
      "Epoch 4/10\n",
      "2450/2450 [==============================] - 2s 788us/step - loss: 0.6821 - accuracy: 0.5673 - val_loss: 0.6901 - val_accuracy: 0.5362\n",
      "Epoch 5/10\n",
      "2450/2450 [==============================] - 2s 730us/step - loss: 0.6760 - accuracy: 0.5780 - val_loss: 0.6858 - val_accuracy: 0.5400\n",
      "Epoch 6/10\n",
      "2450/2450 [==============================] - 2s 760us/step - loss: 0.6605 - accuracy: 0.6033 - val_loss: 0.6748 - val_accuracy: 0.5581\n",
      "Epoch 7/10\n",
      "2450/2450 [==============================] - 2s 765us/step - loss: 0.6201 - accuracy: 0.6494 - val_loss: 0.6095 - val_accuracy: 0.6743\n",
      "Epoch 8/10\n",
      "2450/2450 [==============================] - 2s 763us/step - loss: 0.5446 - accuracy: 0.7437 - val_loss: 0.5171 - val_accuracy: 0.7752\n",
      "Epoch 9/10\n",
      "2450/2450 [==============================] - 2s 765us/step - loss: 0.4412 - accuracy: 0.8314 - val_loss: 0.4238 - val_accuracy: 0.8352\n",
      "Epoch 10/10\n",
      "2450/2450 [==============================] - 2s 742us/step - loss: 0.3616 - accuracy: 0.8714 - val_loss: 0.3640 - val_accuracy: 0.8571\n",
      "7000\n"
     ]
    },
    {
     "name": "stderr",
     "output_type": "stream",
     "text": [
      "[Parallel(n_jobs=1)]: Using backend SequentialBackend with 1 concurrent workers.\n",
      "[Parallel(n_jobs=1)]: Done  64 out of  64 | elapsed:    0.9s finished\n",
      "[Parallel(n_jobs=1)]: Using backend SequentialBackend with 1 concurrent workers.\n",
      "[Parallel(n_jobs=1)]: Done  64 out of  64 | elapsed:    0.0s finished\n"
     ]
    },
    {
     "name": "stdout",
     "output_type": "stream",
     "text": [
      "Epoch 1/10\n",
      "3430/3430 [==============================] - 3s 768us/step - loss: 0.6934 - accuracy: 0.4983 - val_loss: 0.6914 - val_accuracy: 0.5054\n",
      "Epoch 2/10\n",
      "3430/3430 [==============================] - 3s 771us/step - loss: 0.6866 - accuracy: 0.5321 - val_loss: 0.6838 - val_accuracy: 0.5395\n",
      "Epoch 3/10\n",
      "3430/3430 [==============================] - 3s 753us/step - loss: 0.6675 - accuracy: 0.5787 - val_loss: 0.6539 - val_accuracy: 0.6068\n",
      "Epoch 4/10\n",
      "3430/3430 [==============================] - 3s 729us/step - loss: 0.6205 - accuracy: 0.6563 - val_loss: 0.5986 - val_accuracy: 0.6687\n",
      "Epoch 5/10\n",
      "3430/3430 [==============================] - 3s 781us/step - loss: 0.5500 - accuracy: 0.7362 - val_loss: 0.5168 - val_accuracy: 0.7476\n",
      "Epoch 6/10\n",
      "3430/3430 [==============================] - 3s 736us/step - loss: 0.4477 - accuracy: 0.8093 - val_loss: 0.4012 - val_accuracy: 0.8259\n",
      "Epoch 7/10\n",
      "3430/3430 [==============================] - 3s 734us/step - loss: 0.3447 - accuracy: 0.8601 - val_loss: 0.3226 - val_accuracy: 0.8633\n",
      "Epoch 8/10\n",
      "3430/3430 [==============================] - 3s 760us/step - loss: 0.2795 - accuracy: 0.8924 - val_loss: 0.2696 - val_accuracy: 0.8891\n",
      "Epoch 9/10\n",
      "3430/3430 [==============================] - 3s 756us/step - loss: 0.2353 - accuracy: 0.9102 - val_loss: 0.2288 - val_accuracy: 0.9095\n",
      "Epoch 10/10\n",
      "3430/3430 [==============================] - 3s 733us/step - loss: 0.2050 - accuracy: 0.9233 - val_loss: 0.2031 - val_accuracy: 0.9190\n",
      "10000\n"
     ]
    },
    {
     "name": "stderr",
     "output_type": "stream",
     "text": [
      "[Parallel(n_jobs=1)]: Using backend SequentialBackend with 1 concurrent workers.\n",
      "[Parallel(n_jobs=1)]: Done  64 out of  64 | elapsed:    1.5s finished\n",
      "[Parallel(n_jobs=1)]: Using backend SequentialBackend with 1 concurrent workers.\n",
      "[Parallel(n_jobs=1)]: Done  64 out of  64 | elapsed:    0.0s finished\n"
     ]
    },
    {
     "name": "stdout",
     "output_type": "stream",
     "text": [
      "Epoch 1/10\n",
      "4900/4900 [==============================] - 4s 766us/step - loss: 0.6945 - accuracy: 0.5055 - val_loss: 0.6917 - val_accuracy: 0.5171\n",
      "Epoch 2/10\n",
      "4900/4900 [==============================] - 4s 746us/step - loss: 0.6851 - accuracy: 0.5516 - val_loss: 0.6850 - val_accuracy: 0.5481\n",
      "Epoch 3/10\n",
      "4900/4900 [==============================] - 4s 756us/step - loss: 0.6355 - accuracy: 0.6488 - val_loss: 0.5927 - val_accuracy: 0.7095\n",
      "Epoch 4/10\n",
      "4900/4900 [==============================] - 4s 757us/step - loss: 0.4847 - accuracy: 0.7843 - val_loss: 0.4381 - val_accuracy: 0.8057\n",
      "Epoch 5/10\n",
      "4900/4900 [==============================] - 4s 748us/step - loss: 0.3511 - accuracy: 0.8527 - val_loss: 0.3112 - val_accuracy: 0.8724\n",
      "Epoch 6/10\n",
      "4900/4900 [==============================] - 4s 752us/step - loss: 0.2537 - accuracy: 0.9027 - val_loss: 0.2317 - val_accuracy: 0.9133\n",
      "Epoch 7/10\n",
      "4900/4900 [==============================] - 4s 759us/step - loss: 0.1998 - accuracy: 0.9235 - val_loss: 0.2045 - val_accuracy: 0.9181\n",
      "Epoch 8/10\n",
      "4900/4900 [==============================] - 4s 767us/step - loss: 0.1708 - accuracy: 0.9351 - val_loss: 0.1835 - val_accuracy: 0.9252\n",
      "Epoch 9/10\n",
      "4900/4900 [==============================] - 4s 751us/step - loss: 0.1516 - accuracy: 0.9406 - val_loss: 0.1613 - val_accuracy: 0.9319\n",
      "Epoch 10/10\n",
      "4900/4900 [==============================] - 4s 751us/step - loss: 0.1399 - accuracy: 0.9469 - val_loss: 0.1706 - val_accuracy: 0.9243\n",
      "15000\n"
     ]
    },
    {
     "name": "stderr",
     "output_type": "stream",
     "text": [
      "[Parallel(n_jobs=1)]: Using backend SequentialBackend with 1 concurrent workers.\n",
      "[Parallel(n_jobs=1)]: Done  64 out of  64 | elapsed:    2.6s finished\n",
      "[Parallel(n_jobs=1)]: Using backend SequentialBackend with 1 concurrent workers.\n",
      "[Parallel(n_jobs=1)]: Done  64 out of  64 | elapsed:    0.0s finished\n"
     ]
    },
    {
     "name": "stdout",
     "output_type": "stream",
     "text": [
      "Epoch 1/10\n",
      "7349/7349 [==============================] - 6s 768us/step - loss: 0.6955 - accuracy: 0.4958 - val_loss: 0.6925 - val_accuracy: 0.5065\n",
      "Epoch 2/10\n",
      "7349/7349 [==============================] - 6s 754us/step - loss: 0.6824 - accuracy: 0.5591 - val_loss: 0.6596 - val_accuracy: 0.6201\n",
      "Epoch 3/10\n",
      "7349/7349 [==============================] - 6s 750us/step - loss: 0.5985 - accuracy: 0.6813 - val_loss: 0.5392 - val_accuracy: 0.7236\n",
      "Epoch 4/10\n",
      "7349/7349 [==============================] - 6s 777us/step - loss: 0.4896 - accuracy: 0.7532 - val_loss: 0.4501 - val_accuracy: 0.7759\n",
      "Epoch 5/10\n",
      "7349/7349 [==============================] - 6s 770us/step - loss: 0.4371 - accuracy: 0.7872 - val_loss: 0.4104 - val_accuracy: 0.8020\n",
      "Epoch 6/10\n",
      "7349/7349 [==============================] - 6s 765us/step - loss: 0.4111 - accuracy: 0.8008 - val_loss: 0.4000 - val_accuracy: 0.8080\n",
      "Epoch 7/10\n",
      "7349/7349 [==============================] - 6s 759us/step - loss: 0.3948 - accuracy: 0.8111 - val_loss: 0.3836 - val_accuracy: 0.8191\n",
      "Epoch 8/10\n",
      "7349/7349 [==============================] - 6s 774us/step - loss: 0.3830 - accuracy: 0.8166 - val_loss: 0.3633 - val_accuracy: 0.8369\n",
      "Epoch 9/10\n",
      "7349/7349 [==============================] - 6s 751us/step - loss: 0.3714 - accuracy: 0.8253 - val_loss: 0.3543 - val_accuracy: 0.8381\n",
      "Epoch 10/10\n",
      "7349/7349 [==============================] - 5s 739us/step - loss: 0.3603 - accuracy: 0.8314 - val_loss: 0.3564 - val_accuracy: 0.8350\n",
      "20000\n"
     ]
    },
    {
     "name": "stderr",
     "output_type": "stream",
     "text": [
      "[Parallel(n_jobs=1)]: Using backend SequentialBackend with 1 concurrent workers.\n",
      "[Parallel(n_jobs=1)]: Done  64 out of  64 | elapsed:    3.6s finished\n",
      "[Parallel(n_jobs=1)]: Using backend SequentialBackend with 1 concurrent workers.\n",
      "[Parallel(n_jobs=1)]: Done  64 out of  64 | elapsed:    0.1s finished\n"
     ]
    },
    {
     "name": "stdout",
     "output_type": "stream",
     "text": [
      "Epoch 1/10\n",
      "9800/9800 [==============================] - 8s 766us/step - loss: 0.6908 - accuracy: 0.5323 - val_loss: 0.6552 - val_accuracy: 0.5962\n",
      "Epoch 2/10\n",
      "9800/9800 [==============================] - 8s 770us/step - loss: 0.5842 - accuracy: 0.6816 - val_loss: 0.4924 - val_accuracy: 0.7440\n",
      "Epoch 3/10\n",
      "9800/9800 [==============================] - 7s 731us/step - loss: 0.3428 - accuracy: 0.8495 - val_loss: 0.2475 - val_accuracy: 0.8979\n",
      "Epoch 4/10\n",
      "9800/9800 [==============================] - 7s 735us/step - loss: 0.2020 - accuracy: 0.9155 - val_loss: 0.1772 - val_accuracy: 0.9293\n",
      "Epoch 5/10\n",
      "9800/9800 [==============================] - 7s 725us/step - loss: 0.1609 - accuracy: 0.9346 - val_loss: 0.1494 - val_accuracy: 0.9402\n",
      "Epoch 6/10\n",
      "9800/9800 [==============================] - 7s 727us/step - loss: 0.1382 - accuracy: 0.9445 - val_loss: 0.1401 - val_accuracy: 0.9412\n",
      "Epoch 7/10\n",
      "9800/9800 [==============================] - 7s 722us/step - loss: 0.1268 - accuracy: 0.9460 - val_loss: 0.1261 - val_accuracy: 0.9521\n",
      "Epoch 8/10\n",
      "9800/9800 [==============================] - 7s 720us/step - loss: 0.1189 - accuracy: 0.9496 - val_loss: 0.1215 - val_accuracy: 0.9510\n",
      "Epoch 9/10\n",
      "9800/9800 [==============================] - 7s 730us/step - loss: 0.1112 - accuracy: 0.9535 - val_loss: 0.1161 - val_accuracy: 0.9529\n",
      "Epoch 10/10\n",
      "9800/9800 [==============================] - 7s 720us/step - loss: 0.1069 - accuracy: 0.9541 - val_loss: 0.1352 - val_accuracy: 0.9381\n",
      "30000\n"
     ]
    },
    {
     "name": "stderr",
     "output_type": "stream",
     "text": [
      "[Parallel(n_jobs=1)]: Using backend SequentialBackend with 1 concurrent workers.\n",
      "[Parallel(n_jobs=1)]: Done  64 out of  64 | elapsed:    6.0s finished\n",
      "[Parallel(n_jobs=1)]: Using backend SequentialBackend with 1 concurrent workers.\n",
      "[Parallel(n_jobs=1)]: Done  64 out of  64 | elapsed:    0.1s finished\n"
     ]
    },
    {
     "name": "stdout",
     "output_type": "stream",
     "text": [
      "Epoch 1/10\n",
      "14699/14699 [==============================] - 11s 729us/step - loss: 0.6564 - accuracy: 0.6015 - val_loss: 0.5450 - val_accuracy: 0.7450\n",
      "Epoch 2/10\n",
      "14699/14699 [==============================] - 11s 734us/step - loss: 0.3787 - accuracy: 0.8401 - val_loss: 0.2442 - val_accuracy: 0.9097\n",
      "Epoch 3/10\n",
      "14699/14699 [==============================] - 11s 758us/step - loss: 0.2076 - accuracy: 0.9185 - val_loss: 0.1799 - val_accuracy: 0.9264\n",
      "Epoch 4/10\n",
      "14699/14699 [==============================] - 11s 749us/step - loss: 0.1699 - accuracy: 0.9275 - val_loss: 0.1506 - val_accuracy: 0.9356\n",
      "Epoch 5/10\n",
      "14699/14699 [==============================] - 11s 740us/step - loss: 0.1507 - accuracy: 0.9349 - val_loss: 0.1394 - val_accuracy: 0.9386\n",
      "Epoch 6/10\n",
      "14699/14699 [==============================] - 11s 741us/step - loss: 0.1392 - accuracy: 0.9419 - val_loss: 0.1360 - val_accuracy: 0.9413\n",
      "Epoch 7/10\n",
      "14699/14699 [==============================] - 11s 741us/step - loss: 0.1328 - accuracy: 0.9423 - val_loss: 0.1285 - val_accuracy: 0.9462\n",
      "Epoch 8/10\n",
      "14699/14699 [==============================] - 11s 739us/step - loss: 0.1270 - accuracy: 0.9461 - val_loss: 0.1222 - val_accuracy: 0.9476\n",
      "Epoch 9/10\n",
      "14699/14699 [==============================] - 11s 736us/step - loss: 0.1229 - accuracy: 0.9467 - val_loss: 0.1192 - val_accuracy: 0.9475\n",
      "Epoch 10/10\n",
      "14699/14699 [==============================] - 11s 725us/step - loss: 0.1199 - accuracy: 0.9475 - val_loss: 0.1138 - val_accuracy: 0.9511\n",
      "1\n",
      "500\n",
      "Epoch 1/10\n"
     ]
    },
    {
     "name": "stderr",
     "output_type": "stream",
     "text": [
      "[Parallel(n_jobs=1)]: Using backend SequentialBackend with 1 concurrent workers.\n",
      "[Parallel(n_jobs=1)]: Done  64 out of  64 | elapsed:    0.1s finished\n",
      "[Parallel(n_jobs=1)]: Using backend SequentialBackend with 1 concurrent workers.\n",
      "[Parallel(n_jobs=1)]: Done  64 out of  64 | elapsed:    0.0s finished\n"
     ]
    },
    {
     "name": "stdout",
     "output_type": "stream",
     "text": [
      "244/244 [==============================] - 0s 1ms/step - loss: 0.7141 - accuracy: 0.4631 - val_loss: 0.6839 - val_accuracy: 0.5755\n",
      "Epoch 2/10\n",
      "244/244 [==============================] - 0s 851us/step - loss: 0.6968 - accuracy: 0.5041 - val_loss: 0.6841 - val_accuracy: 0.5755\n",
      "Epoch 3/10\n",
      "244/244 [==============================] - 0s 868us/step - loss: 0.6877 - accuracy: 0.5123 - val_loss: 0.6845 - val_accuracy: 0.5472\n",
      "Epoch 4/10\n",
      "244/244 [==============================] - 0s 888us/step - loss: 0.6785 - accuracy: 0.5861 - val_loss: 0.6850 - val_accuracy: 0.5377\n",
      "Epoch 5/10\n",
      "244/244 [==============================] - 0s 865us/step - loss: 0.6715 - accuracy: 0.6107 - val_loss: 0.6862 - val_accuracy: 0.5283\n",
      "Epoch 6/10\n",
      "244/244 [==============================] - 0s 844us/step - loss: 0.6625 - accuracy: 0.6598 - val_loss: 0.6880 - val_accuracy: 0.5377\n",
      "Epoch 7/10\n",
      "244/244 [==============================] - 0s 831us/step - loss: 0.6541 - accuracy: 0.6393 - val_loss: 0.6861 - val_accuracy: 0.5377\n",
      "Epoch 8/10\n",
      "244/244 [==============================] - 0s 815us/step - loss: 0.6426 - accuracy: 0.6885 - val_loss: 0.6872 - val_accuracy: 0.5566\n",
      "Epoch 9/10\n",
      "244/244 [==============================] - 0s 825us/step - loss: 0.6325 - accuracy: 0.6721 - val_loss: 0.6864 - val_accuracy: 0.5377\n",
      "Epoch 10/10\n",
      "244/244 [==============================] - 0s 817us/step - loss: 0.6183 - accuracy: 0.6803 - val_loss: 0.6904 - val_accuracy: 0.5000\n",
      "1000\n",
      "Epoch 1/10\n"
     ]
    },
    {
     "name": "stderr",
     "output_type": "stream",
     "text": [
      "[Parallel(n_jobs=1)]: Using backend SequentialBackend with 1 concurrent workers.\n",
      "[Parallel(n_jobs=1)]: Done  64 out of  64 | elapsed:    0.1s finished\n",
      "[Parallel(n_jobs=1)]: Using backend SequentialBackend with 1 concurrent workers.\n",
      "[Parallel(n_jobs=1)]: Done  64 out of  64 | elapsed:    0.0s finished\n"
     ]
    },
    {
     "name": "stdout",
     "output_type": "stream",
     "text": [
      "489/489 [==============================] - 0s 895us/step - loss: 0.7133 - accuracy: 0.4969 - val_loss: 0.6923 - val_accuracy: 0.5213\n",
      "Epoch 2/10\n",
      "489/489 [==============================] - 0s 771us/step - loss: 0.6910 - accuracy: 0.5481 - val_loss: 0.6919 - val_accuracy: 0.5308\n",
      "Epoch 3/10\n",
      "489/489 [==============================] - 0s 753us/step - loss: 0.6805 - accuracy: 0.5685 - val_loss: 0.6950 - val_accuracy: 0.5118\n",
      "Epoch 4/10\n",
      "489/489 [==============================] - 0s 775us/step - loss: 0.6725 - accuracy: 0.6176 - val_loss: 0.6993 - val_accuracy: 0.4834\n",
      "Epoch 5/10\n",
      "489/489 [==============================] - 0s 773us/step - loss: 0.6665 - accuracy: 0.6074 - val_loss: 0.7038 - val_accuracy: 0.4597\n",
      "Epoch 6/10\n",
      "489/489 [==============================] - 0s 755us/step - loss: 0.6599 - accuracy: 0.6176 - val_loss: 0.7094 - val_accuracy: 0.4882\n",
      "Epoch 7/10\n",
      "489/489 [==============================] - 0s 824us/step - loss: 0.6516 - accuracy: 0.6360 - val_loss: 0.7153 - val_accuracy: 0.4787\n",
      "Epoch 8/10\n",
      "489/489 [==============================] - 0s 815us/step - loss: 0.6435 - accuracy: 0.6544 - val_loss: 0.7243 - val_accuracy: 0.4739\n",
      "Epoch 9/10\n",
      "489/489 [==============================] - 0s 772us/step - loss: 0.6366 - accuracy: 0.6728 - val_loss: 0.7302 - val_accuracy: 0.4692\n",
      "Epoch 10/10\n",
      "489/489 [==============================] - 0s 769us/step - loss: 0.6298 - accuracy: 0.6769 - val_loss: 0.7381 - val_accuracy: 0.4645\n",
      "2000\n"
     ]
    },
    {
     "name": "stderr",
     "output_type": "stream",
     "text": [
      "[Parallel(n_jobs=1)]: Using backend SequentialBackend with 1 concurrent workers.\n",
      "[Parallel(n_jobs=1)]: Done  64 out of  64 | elapsed:    0.2s finished\n",
      "[Parallel(n_jobs=1)]: Using backend SequentialBackend with 1 concurrent workers.\n",
      "[Parallel(n_jobs=1)]: Done  64 out of  64 | elapsed:    0.0s finished\n"
     ]
    },
    {
     "name": "stdout",
     "output_type": "stream",
     "text": [
      "Epoch 1/10\n",
      "979/979 [==============================] - 1s 788us/step - loss: 0.7122 - accuracy: 0.5250 - val_loss: 0.7083 - val_accuracy: 0.4656\n",
      "Epoch 2/10\n",
      "979/979 [==============================] - 1s 731us/step - loss: 0.6940 - accuracy: 0.5465 - val_loss: 0.7049 - val_accuracy: 0.4846\n",
      "Epoch 3/10\n",
      "979/979 [==============================] - 1s 732us/step - loss: 0.6866 - accuracy: 0.5638 - val_loss: 0.7049 - val_accuracy: 0.4893\n",
      "Epoch 4/10\n",
      "979/979 [==============================] - 1s 744us/step - loss: 0.6808 - accuracy: 0.5669 - val_loss: 0.7034 - val_accuracy: 0.5083\n",
      "Epoch 5/10\n",
      "979/979 [==============================] - 1s 751us/step - loss: 0.6775 - accuracy: 0.5771 - val_loss: 0.7108 - val_accuracy: 0.4751\n",
      "Epoch 6/10\n",
      "979/979 [==============================] - 1s 763us/step - loss: 0.6727 - accuracy: 0.5894 - val_loss: 0.7175 - val_accuracy: 0.4679\n",
      "Epoch 7/10\n",
      "979/979 [==============================] - 1s 739us/step - loss: 0.6692 - accuracy: 0.5924 - val_loss: 0.7199 - val_accuracy: 0.4584\n",
      "Epoch 8/10\n",
      "979/979 [==============================] - 1s 737us/step - loss: 0.6643 - accuracy: 0.6016 - val_loss: 0.7255 - val_accuracy: 0.4584\n",
      "Epoch 9/10\n",
      "979/979 [==============================] - 1s 740us/step - loss: 0.6604 - accuracy: 0.5975 - val_loss: 0.7317 - val_accuracy: 0.4584\n",
      "Epoch 10/10\n",
      "979/979 [==============================] - 1s 736us/step - loss: 0.6569 - accuracy: 0.6190 - val_loss: 0.7383 - val_accuracy: 0.4561\n",
      "3000\n"
     ]
    },
    {
     "name": "stderr",
     "output_type": "stream",
     "text": [
      "[Parallel(n_jobs=1)]: Using backend SequentialBackend with 1 concurrent workers.\n",
      "[Parallel(n_jobs=1)]: Done  64 out of  64 | elapsed:    0.3s finished\n",
      "[Parallel(n_jobs=1)]: Using backend SequentialBackend with 1 concurrent workers.\n",
      "[Parallel(n_jobs=1)]: Done  64 out of  64 | elapsed:    0.0s finished\n"
     ]
    },
    {
     "name": "stdout",
     "output_type": "stream",
     "text": [
      "Epoch 1/10\n",
      "1470/1470 [==============================] - 1s 811us/step - loss: 0.6982 - accuracy: 0.5007 - val_loss: 0.6977 - val_accuracy: 0.4921\n",
      "Epoch 2/10\n",
      "1470/1470 [==============================] - 1s 741us/step - loss: 0.6908 - accuracy: 0.5354 - val_loss: 0.6945 - val_accuracy: 0.4921\n",
      "Epoch 3/10\n",
      "1470/1470 [==============================] - 1s 746us/step - loss: 0.6856 - accuracy: 0.5599 - val_loss: 0.6942 - val_accuracy: 0.4905\n",
      "Epoch 4/10\n",
      "1470/1470 [==============================] - 1s 758us/step - loss: 0.6812 - accuracy: 0.5680 - val_loss: 0.6948 - val_accuracy: 0.4968\n",
      "Epoch 5/10\n",
      "1470/1470 [==============================] - 1s 739us/step - loss: 0.6749 - accuracy: 0.5796 - val_loss: 0.6952 - val_accuracy: 0.4952\n",
      "Epoch 6/10\n",
      "1470/1470 [==============================] - 1s 766us/step - loss: 0.6688 - accuracy: 0.5782 - val_loss: 0.6947 - val_accuracy: 0.5143\n",
      "Epoch 7/10\n",
      "1470/1470 [==============================] - 1s 740us/step - loss: 0.6606 - accuracy: 0.5912 - val_loss: 0.6896 - val_accuracy: 0.5429\n",
      "Epoch 8/10\n",
      "1470/1470 [==============================] - 1s 736us/step - loss: 0.6481 - accuracy: 0.6116 - val_loss: 0.6837 - val_accuracy: 0.5540\n",
      "Epoch 9/10\n",
      "1470/1470 [==============================] - 1s 747us/step - loss: 0.6349 - accuracy: 0.6224 - val_loss: 0.6703 - val_accuracy: 0.5905\n",
      "Epoch 10/10\n",
      "1470/1470 [==============================] - 1s 769us/step - loss: 0.6196 - accuracy: 0.6442 - val_loss: 0.6581 - val_accuracy: 0.5857\n",
      "5000\n"
     ]
    },
    {
     "name": "stderr",
     "output_type": "stream",
     "text": [
      "[Parallel(n_jobs=1)]: Using backend SequentialBackend with 1 concurrent workers.\n",
      "[Parallel(n_jobs=1)]: Done  64 out of  64 | elapsed:    0.6s finished\n",
      "[Parallel(n_jobs=1)]: Using backend SequentialBackend with 1 concurrent workers.\n",
      "[Parallel(n_jobs=1)]: Done  64 out of  64 | elapsed:    0.0s finished\n"
     ]
    },
    {
     "name": "stdout",
     "output_type": "stream",
     "text": [
      "Epoch 1/10\n",
      "2450/2450 [==============================] - 2s 756us/step - loss: 0.7007 - accuracy: 0.4935 - val_loss: 0.6960 - val_accuracy: 0.5010\n",
      "Epoch 2/10\n",
      "2450/2450 [==============================] - 2s 756us/step - loss: 0.6919 - accuracy: 0.5155 - val_loss: 0.6948 - val_accuracy: 0.4657\n",
      "Epoch 3/10\n",
      "2450/2450 [==============================] - 2s 741us/step - loss: 0.6849 - accuracy: 0.5433 - val_loss: 0.7015 - val_accuracy: 0.4543\n",
      "Epoch 4/10\n",
      "2450/2450 [==============================] - 2s 748us/step - loss: 0.6777 - accuracy: 0.5559 - val_loss: 0.6902 - val_accuracy: 0.5038\n",
      "Epoch 5/10\n",
      "2450/2450 [==============================] - 2s 794us/step - loss: 0.6675 - accuracy: 0.5755 - val_loss: 0.6875 - val_accuracy: 0.5248\n",
      "Epoch 6/10\n",
      "2450/2450 [==============================] - 2s 749us/step - loss: 0.6578 - accuracy: 0.5918 - val_loss: 0.6848 - val_accuracy: 0.5295\n",
      "Epoch 7/10\n",
      "2450/2450 [==============================] - 2s 731us/step - loss: 0.6492 - accuracy: 0.6065 - val_loss: 0.6843 - val_accuracy: 0.5362\n",
      "Epoch 8/10\n",
      "2450/2450 [==============================] - 2s 778us/step - loss: 0.6394 - accuracy: 0.6151 - val_loss: 0.6770 - val_accuracy: 0.5486\n",
      "Epoch 9/10\n",
      "2450/2450 [==============================] - 2s 748us/step - loss: 0.6261 - accuracy: 0.6237 - val_loss: 0.6667 - val_accuracy: 0.5733\n",
      "Epoch 10/10\n",
      "2450/2450 [==============================] - 2s 774us/step - loss: 0.6120 - accuracy: 0.6482 - val_loss: 0.6467 - val_accuracy: 0.6076\n",
      "7000\n"
     ]
    },
    {
     "name": "stderr",
     "output_type": "stream",
     "text": [
      "[Parallel(n_jobs=1)]: Using backend SequentialBackend with 1 concurrent workers.\n",
      "[Parallel(n_jobs=1)]: Done  64 out of  64 | elapsed:    1.0s finished\n",
      "[Parallel(n_jobs=1)]: Using backend SequentialBackend with 1 concurrent workers.\n",
      "[Parallel(n_jobs=1)]: Done  64 out of  64 | elapsed:    0.0s finished\n"
     ]
    },
    {
     "name": "stdout",
     "output_type": "stream",
     "text": [
      "Epoch 1/10\n",
      "3430/3430 [==============================] - 3s 761us/step - loss: 0.7004 - accuracy: 0.5041 - val_loss: 0.6931 - val_accuracy: 0.5286\n",
      "Epoch 2/10\n",
      "3430/3430 [==============================] - 3s 750us/step - loss: 0.6875 - accuracy: 0.5300 - val_loss: 0.6785 - val_accuracy: 0.5633\n",
      "Epoch 3/10\n",
      "3430/3430 [==============================] - 3s 739us/step - loss: 0.6577 - accuracy: 0.6012 - val_loss: 0.6306 - val_accuracy: 0.6517\n",
      "Epoch 4/10\n",
      "3430/3430 [==============================] - 3s 740us/step - loss: 0.5826 - accuracy: 0.7079 - val_loss: 0.5226 - val_accuracy: 0.7537\n",
      "Epoch 5/10\n",
      "3430/3430 [==============================] - 2s 720us/step - loss: 0.4636 - accuracy: 0.8035 - val_loss: 0.4103 - val_accuracy: 0.8197\n",
      "Epoch 6/10\n",
      "3430/3430 [==============================] - 3s 788us/step - loss: 0.3497 - accuracy: 0.8630 - val_loss: 0.3163 - val_accuracy: 0.8707\n",
      "Epoch 7/10\n",
      "3430/3430 [==============================] - 2s 719us/step - loss: 0.2697 - accuracy: 0.8965 - val_loss: 0.2588 - val_accuracy: 0.8946\n",
      "Epoch 8/10\n",
      "3430/3430 [==============================] - 3s 734us/step - loss: 0.2297 - accuracy: 0.9140 - val_loss: 0.2298 - val_accuracy: 0.9102\n",
      "Epoch 9/10\n",
      "3430/3430 [==============================] - 2s 716us/step - loss: 0.2010 - accuracy: 0.9239 - val_loss: 0.2088 - val_accuracy: 0.9136\n",
      "Epoch 10/10\n",
      "3430/3430 [==============================] - 3s 733us/step - loss: 0.1840 - accuracy: 0.9292 - val_loss: 0.1926 - val_accuracy: 0.9150\n",
      "10000\n"
     ]
    },
    {
     "name": "stderr",
     "output_type": "stream",
     "text": [
      "[Parallel(n_jobs=1)]: Using backend SequentialBackend with 1 concurrent workers.\n",
      "[Parallel(n_jobs=1)]: Done  64 out of  64 | elapsed:    1.3s finished\n",
      "[Parallel(n_jobs=1)]: Using backend SequentialBackend with 1 concurrent workers.\n",
      "[Parallel(n_jobs=1)]: Done  64 out of  64 | elapsed:    0.0s finished\n"
     ]
    },
    {
     "name": "stdout",
     "output_type": "stream",
     "text": [
      "Epoch 1/10\n",
      "4900/4900 [==============================] - 4s 784us/step - loss: 0.7001 - accuracy: 0.4992 - val_loss: 0.6943 - val_accuracy: 0.5138\n",
      "Epoch 2/10\n",
      "4900/4900 [==============================] - 4s 770us/step - loss: 0.6927 - accuracy: 0.5173 - val_loss: 0.6936 - val_accuracy: 0.5195\n",
      "Epoch 3/10\n",
      "4900/4900 [==============================] - 4s 721us/step - loss: 0.6908 - accuracy: 0.5231 - val_loss: 0.6911 - val_accuracy: 0.5252\n",
      "Epoch 4/10\n",
      "4900/4900 [==============================] - 4s 739us/step - loss: 0.6840 - accuracy: 0.5584 - val_loss: 0.6829 - val_accuracy: 0.5557\n",
      "Epoch 5/10\n",
      "4900/4900 [==============================] - 4s 768us/step - loss: 0.6591 - accuracy: 0.6037 - val_loss: 0.6440 - val_accuracy: 0.6329\n",
      "Epoch 6/10\n",
      "4900/4900 [==============================] - 4s 769us/step - loss: 0.6005 - accuracy: 0.6704 - val_loss: 0.5592 - val_accuracy: 0.7190\n",
      "Epoch 7/10\n",
      "4900/4900 [==============================] - 4s 741us/step - loss: 0.4650 - accuracy: 0.7912 - val_loss: 0.3733 - val_accuracy: 0.8471\n",
      "Epoch 8/10\n",
      "4900/4900 [==============================] - 4s 753us/step - loss: 0.2905 - accuracy: 0.8973 - val_loss: 0.2384 - val_accuracy: 0.9024\n",
      "Epoch 9/10\n",
      "4900/4900 [==============================] - 4s 730us/step - loss: 0.2031 - accuracy: 0.9300 - val_loss: 0.1852 - val_accuracy: 0.9310\n",
      "Epoch 10/10\n",
      "4900/4900 [==============================] - 4s 734us/step - loss: 0.1619 - accuracy: 0.9447 - val_loss: 0.1584 - val_accuracy: 0.9410\n",
      "15000\n"
     ]
    },
    {
     "name": "stderr",
     "output_type": "stream",
     "text": [
      "[Parallel(n_jobs=1)]: Using backend SequentialBackend with 1 concurrent workers.\n",
      "[Parallel(n_jobs=1)]: Done  64 out of  64 | elapsed:    2.3s finished\n",
      "[Parallel(n_jobs=1)]: Using backend SequentialBackend with 1 concurrent workers.\n",
      "[Parallel(n_jobs=1)]: Done  64 out of  64 | elapsed:    0.0s finished\n"
     ]
    },
    {
     "name": "stdout",
     "output_type": "stream",
     "text": [
      "Epoch 1/10\n",
      "7349/7349 [==============================] - 5s 728us/step - loss: 0.6950 - accuracy: 0.5074 - val_loss: 0.6924 - val_accuracy: 0.4973\n",
      "Epoch 2/10\n",
      "7349/7349 [==============================] - 5s 719us/step - loss: 0.6632 - accuracy: 0.5832 - val_loss: 0.6169 - val_accuracy: 0.6496\n",
      "Epoch 3/10\n",
      "7349/7349 [==============================] - 5s 718us/step - loss: 0.4811 - accuracy: 0.7768 - val_loss: 0.3528 - val_accuracy: 0.8575\n",
      "Epoch 4/10\n",
      "7349/7349 [==============================] - 5s 720us/step - loss: 0.2928 - accuracy: 0.8807 - val_loss: 0.2277 - val_accuracy: 0.9124\n",
      "Epoch 5/10\n",
      "7349/7349 [==============================] - 5s 723us/step - loss: 0.2024 - accuracy: 0.9235 - val_loss: 0.1715 - val_accuracy: 0.9349\n",
      "Epoch 6/10\n",
      "7349/7349 [==============================] - 6s 757us/step - loss: 0.1581 - accuracy: 0.9407 - val_loss: 0.1429 - val_accuracy: 0.9432\n",
      "Epoch 7/10\n",
      "7349/7349 [==============================] - 6s 765us/step - loss: 0.1325 - accuracy: 0.9498 - val_loss: 0.1212 - val_accuracy: 0.9540\n",
      "Epoch 8/10\n",
      "7349/7349 [==============================] - 6s 780us/step - loss: 0.1150 - accuracy: 0.9582 - val_loss: 0.1095 - val_accuracy: 0.9587\n",
      "Epoch 9/10\n",
      "7349/7349 [==============================] - 6s 778us/step - loss: 0.1033 - accuracy: 0.9611 - val_loss: 0.1042 - val_accuracy: 0.9575\n",
      "Epoch 10/10\n",
      "7349/7349 [==============================] - 6s 769us/step - loss: 0.0936 - accuracy: 0.9635 - val_loss: 0.0979 - val_accuracy: 0.9606\n",
      "20000\n"
     ]
    },
    {
     "name": "stderr",
     "output_type": "stream",
     "text": [
      "[Parallel(n_jobs=1)]: Using backend SequentialBackend with 1 concurrent workers.\n",
      "[Parallel(n_jobs=1)]: Done  64 out of  64 | elapsed:    3.9s finished\n",
      "[Parallel(n_jobs=1)]: Using backend SequentialBackend with 1 concurrent workers.\n",
      "[Parallel(n_jobs=1)]: Done  64 out of  64 | elapsed:    0.1s finished\n"
     ]
    },
    {
     "name": "stdout",
     "output_type": "stream",
     "text": [
      "Epoch 1/10\n",
      "9800/9800 [==============================] - 7s 739us/step - loss: 0.6918 - accuracy: 0.5242 - val_loss: 0.6656 - val_accuracy: 0.6129\n",
      "Epoch 2/10\n",
      "9800/9800 [==============================] - 7s 741us/step - loss: 0.5729 - accuracy: 0.6791 - val_loss: 0.4849 - val_accuracy: 0.7238\n",
      "Epoch 3/10\n",
      "9800/9800 [==============================] - 7s 735us/step - loss: 0.4035 - accuracy: 0.8071 - val_loss: 0.3162 - val_accuracy: 0.8776\n",
      "Epoch 4/10\n",
      "9800/9800 [==============================] - 7s 756us/step - loss: 0.2660 - accuracy: 0.9004 - val_loss: 0.2365 - val_accuracy: 0.9088\n",
      "Epoch 5/10\n",
      "9800/9800 [==============================] - 7s 724us/step - loss: 0.2053 - accuracy: 0.9243 - val_loss: 0.1912 - val_accuracy: 0.9255\n",
      "Epoch 6/10\n",
      "9800/9800 [==============================] - 7s 735us/step - loss: 0.1741 - accuracy: 0.9334 - val_loss: 0.1708 - val_accuracy: 0.9333\n",
      "Epoch 7/10\n",
      "9800/9800 [==============================] - 7s 721us/step - loss: 0.1554 - accuracy: 0.9394 - val_loss: 0.1586 - val_accuracy: 0.9331\n",
      "Epoch 8/10\n",
      "9800/9800 [==============================] - 7s 716us/step - loss: 0.1431 - accuracy: 0.9423 - val_loss: 0.1450 - val_accuracy: 0.9424\n",
      "Epoch 9/10\n",
      "9800/9800 [==============================] - 7s 743us/step - loss: 0.1307 - accuracy: 0.9488 - val_loss: 0.1315 - val_accuracy: 0.9505\n",
      "Epoch 10/10\n",
      "9800/9800 [==============================] - 7s 719us/step - loss: 0.1250 - accuracy: 0.9479 - val_loss: 0.1239 - val_accuracy: 0.9507\n",
      "30000\n"
     ]
    },
    {
     "name": "stderr",
     "output_type": "stream",
     "text": [
      "[Parallel(n_jobs=1)]: Using backend SequentialBackend with 1 concurrent workers.\n",
      "[Parallel(n_jobs=1)]: Done  64 out of  64 | elapsed:    5.5s finished\n",
      "[Parallel(n_jobs=1)]: Using backend SequentialBackend with 1 concurrent workers.\n",
      "[Parallel(n_jobs=1)]: Done  64 out of  64 | elapsed:    0.1s finished\n"
     ]
    },
    {
     "name": "stdout",
     "output_type": "stream",
     "text": [
      "Epoch 1/10\n",
      "14699/14699 [==============================] - 11s 732us/step - loss: 0.6904 - accuracy: 0.5168 - val_loss: 0.6623 - val_accuracy: 0.5880\n",
      "Epoch 2/10\n",
      "14699/14699 [==============================] - 10s 712us/step - loss: 0.4212 - accuracy: 0.8136 - val_loss: 0.2277 - val_accuracy: 0.9219\n",
      "Epoch 3/10\n",
      "14699/14699 [==============================] - 10s 709us/step - loss: 0.1716 - accuracy: 0.9361 - val_loss: 0.1431 - val_accuracy: 0.9440\n",
      "Epoch 4/10\n",
      "14699/14699 [==============================] - 10s 708us/step - loss: 0.1232 - accuracy: 0.9510 - val_loss: 0.1202 - val_accuracy: 0.9473\n",
      "Epoch 5/10\n",
      "14699/14699 [==============================] - 10s 710us/step - loss: 0.1040 - accuracy: 0.9578 - val_loss: 0.1066 - val_accuracy: 0.9529\n",
      "Epoch 6/10\n",
      "14699/14699 [==============================] - 10s 709us/step - loss: 0.0940 - accuracy: 0.9616 - val_loss: 0.0914 - val_accuracy: 0.9629\n",
      "Epoch 7/10\n",
      "14699/14699 [==============================] - 10s 712us/step - loss: 0.0861 - accuracy: 0.9641 - val_loss: 0.1043 - val_accuracy: 0.9516\n",
      "Epoch 8/10\n",
      "14699/14699 [==============================] - 10s 711us/step - loss: 0.0816 - accuracy: 0.9654 - val_loss: 0.0925 - val_accuracy: 0.9613\n",
      "Epoch 9/10\n",
      "14699/14699 [==============================] - 10s 708us/step - loss: 0.0768 - accuracy: 0.9669 - val_loss: 0.0846 - val_accuracy: 0.9627\n",
      "Epoch 10/10\n",
      "14699/14699 [==============================] - 10s 713us/step - loss: 0.0737 - accuracy: 0.9686 - val_loss: 0.0835 - val_accuracy: 0.9648\n",
      "2\n",
      "500\n",
      "Epoch 1/10\n"
     ]
    },
    {
     "name": "stderr",
     "output_type": "stream",
     "text": [
      "[Parallel(n_jobs=1)]: Using backend SequentialBackend with 1 concurrent workers.\n",
      "[Parallel(n_jobs=1)]: Done  64 out of  64 | elapsed:    0.1s finished\n",
      "[Parallel(n_jobs=1)]: Using backend SequentialBackend with 1 concurrent workers.\n",
      "[Parallel(n_jobs=1)]: Done  64 out of  64 | elapsed:    0.0s finished\n"
     ]
    },
    {
     "name": "stdout",
     "output_type": "stream",
     "text": [
      "244/244 [==============================] - 0s 1ms/step - loss: 0.7189 - accuracy: 0.4836 - val_loss: 0.7027 - val_accuracy: 0.4528\n",
      "Epoch 2/10\n",
      "244/244 [==============================] - 0s 804us/step - loss: 0.6957 - accuracy: 0.5451 - val_loss: 0.7035 - val_accuracy: 0.4717\n",
      "Epoch 3/10\n",
      "244/244 [==============================] - 0s 799us/step - loss: 0.6848 - accuracy: 0.5615 - val_loss: 0.7031 - val_accuracy: 0.5189\n",
      "Epoch 4/10\n",
      "244/244 [==============================] - 0s 809us/step - loss: 0.6768 - accuracy: 0.5943 - val_loss: 0.7033 - val_accuracy: 0.5189\n",
      "Epoch 5/10\n",
      "244/244 [==============================] - 0s 804us/step - loss: 0.6701 - accuracy: 0.5861 - val_loss: 0.7021 - val_accuracy: 0.5094\n",
      "Epoch 6/10\n",
      "244/244 [==============================] - 0s 817us/step - loss: 0.6638 - accuracy: 0.6393 - val_loss: 0.7012 - val_accuracy: 0.5189\n",
      "Epoch 7/10\n",
      "244/244 [==============================] - 0s 788us/step - loss: 0.6564 - accuracy: 0.6639 - val_loss: 0.7012 - val_accuracy: 0.5566\n",
      "Epoch 8/10\n",
      "244/244 [==============================] - 0s 814us/step - loss: 0.6479 - accuracy: 0.6639 - val_loss: 0.7014 - val_accuracy: 0.5755\n",
      "Epoch 9/10\n",
      "244/244 [==============================] - 0s 796us/step - loss: 0.6397 - accuracy: 0.6762 - val_loss: 0.7009 - val_accuracy: 0.5755\n",
      "Epoch 10/10\n",
      "244/244 [==============================] - 0s 816us/step - loss: 0.6296 - accuracy: 0.7008 - val_loss: 0.6998 - val_accuracy: 0.5566\n",
      "1000\n",
      "Epoch 1/10\n"
     ]
    },
    {
     "name": "stderr",
     "output_type": "stream",
     "text": [
      "[Parallel(n_jobs=1)]: Using backend SequentialBackend with 1 concurrent workers.\n",
      "[Parallel(n_jobs=1)]: Done  64 out of  64 | elapsed:    0.1s finished\n",
      "[Parallel(n_jobs=1)]: Using backend SequentialBackend with 1 concurrent workers.\n",
      "[Parallel(n_jobs=1)]: Done  64 out of  64 | elapsed:    0.0s finished\n"
     ]
    },
    {
     "name": "stdout",
     "output_type": "stream",
     "text": [
      "489/489 [==============================] - 0s 882us/step - loss: 0.6904 - accuracy: 0.5297 - val_loss: 0.6971 - val_accuracy: 0.4313\n",
      "Epoch 2/10\n",
      "489/489 [==============================] - 0s 742us/step - loss: 0.6844 - accuracy: 0.5521 - val_loss: 0.7003 - val_accuracy: 0.4123\n",
      "Epoch 3/10\n",
      "489/489 [==============================] - 0s 759us/step - loss: 0.6792 - accuracy: 0.5644 - val_loss: 0.7034 - val_accuracy: 0.4313\n",
      "Epoch 4/10\n",
      "489/489 [==============================] - 0s 766us/step - loss: 0.6741 - accuracy: 0.5890 - val_loss: 0.7067 - val_accuracy: 0.4408\n",
      "Epoch 5/10\n",
      "489/489 [==============================] - 0s 752us/step - loss: 0.6695 - accuracy: 0.6074 - val_loss: 0.7104 - val_accuracy: 0.4408\n",
      "Epoch 6/10\n",
      "489/489 [==============================] - 0s 815us/step - loss: 0.6644 - accuracy: 0.6196 - val_loss: 0.7135 - val_accuracy: 0.4455\n",
      "Epoch 7/10\n",
      "489/489 [==============================] - 0s 820us/step - loss: 0.6579 - accuracy: 0.6176 - val_loss: 0.7189 - val_accuracy: 0.4360\n",
      "Epoch 8/10\n",
      "489/489 [==============================] - 0s 765us/step - loss: 0.6517 - accuracy: 0.6258 - val_loss: 0.7287 - val_accuracy: 0.4455\n",
      "Epoch 9/10\n",
      "489/489 [==============================] - 0s 761us/step - loss: 0.6453 - accuracy: 0.6401 - val_loss: 0.7294 - val_accuracy: 0.4455\n",
      "Epoch 10/10\n",
      "489/489 [==============================] - 0s 763us/step - loss: 0.6388 - accuracy: 0.6524 - val_loss: 0.7355 - val_accuracy: 0.4408\n",
      "2000\n"
     ]
    },
    {
     "name": "stderr",
     "output_type": "stream",
     "text": [
      "[Parallel(n_jobs=1)]: Using backend SequentialBackend with 1 concurrent workers.\n",
      "[Parallel(n_jobs=1)]: Done  64 out of  64 | elapsed:    0.2s finished\n",
      "[Parallel(n_jobs=1)]: Using backend SequentialBackend with 1 concurrent workers.\n",
      "[Parallel(n_jobs=1)]: Done  64 out of  64 | elapsed:    0.0s finished\n"
     ]
    },
    {
     "name": "stdout",
     "output_type": "stream",
     "text": [
      "Epoch 1/10\n",
      "979/979 [==============================] - 1s 1ms/step - loss: 0.7292 - accuracy: 0.4750 - val_loss: 0.7016 - val_accuracy: 0.4656\n",
      "Epoch 2/10\n",
      "979/979 [==============================] - 1s 717us/step - loss: 0.6924 - accuracy: 0.5158 - val_loss: 0.6979 - val_accuracy: 0.4751\n",
      "Epoch 3/10\n",
      "979/979 [==============================] - 1s 717us/step - loss: 0.6876 - accuracy: 0.5424 - val_loss: 0.6977 - val_accuracy: 0.4917\n",
      "Epoch 4/10\n",
      "979/979 [==============================] - 1s 761us/step - loss: 0.6842 - accuracy: 0.5546 - val_loss: 0.7003 - val_accuracy: 0.4703\n",
      "Epoch 5/10\n",
      "979/979 [==============================] - 1s 742us/step - loss: 0.6800 - accuracy: 0.5710 - val_loss: 0.6996 - val_accuracy: 0.5083\n",
      "Epoch 6/10\n",
      "979/979 [==============================] - 1s 713us/step - loss: 0.6764 - accuracy: 0.5781 - val_loss: 0.7028 - val_accuracy: 0.5012\n",
      "Epoch 7/10\n",
      "979/979 [==============================] - 1s 723us/step - loss: 0.6732 - accuracy: 0.5853 - val_loss: 0.7049 - val_accuracy: 0.4988\n",
      "Epoch 8/10\n",
      "979/979 [==============================] - 1s 720us/step - loss: 0.6697 - accuracy: 0.5914 - val_loss: 0.7058 - val_accuracy: 0.4964\n",
      "Epoch 9/10\n",
      "979/979 [==============================] - 1s 738us/step - loss: 0.6656 - accuracy: 0.5986 - val_loss: 0.7080 - val_accuracy: 0.5083\n",
      "Epoch 10/10\n",
      "979/979 [==============================] - 1s 729us/step - loss: 0.6610 - accuracy: 0.6037 - val_loss: 0.7136 - val_accuracy: 0.5059\n",
      "3000\n"
     ]
    },
    {
     "name": "stderr",
     "output_type": "stream",
     "text": [
      "[Parallel(n_jobs=1)]: Using backend SequentialBackend with 1 concurrent workers.\n",
      "[Parallel(n_jobs=1)]: Done  64 out of  64 | elapsed:    0.3s finished\n",
      "[Parallel(n_jobs=1)]: Using backend SequentialBackend with 1 concurrent workers.\n",
      "[Parallel(n_jobs=1)]: Done  64 out of  64 | elapsed:    0.0s finished\n"
     ]
    },
    {
     "name": "stdout",
     "output_type": "stream",
     "text": [
      "Epoch 1/10\n",
      "1470/1470 [==============================] - 1s 764us/step - loss: 0.7012 - accuracy: 0.4946 - val_loss: 0.6976 - val_accuracy: 0.5063\n",
      "Epoch 2/10\n",
      "1470/1470 [==============================] - 1s 717us/step - loss: 0.6935 - accuracy: 0.5265 - val_loss: 0.6959 - val_accuracy: 0.4921\n",
      "Epoch 3/10\n",
      "1470/1470 [==============================] - 1s 720us/step - loss: 0.6894 - accuracy: 0.5401 - val_loss: 0.6943 - val_accuracy: 0.5032\n",
      "Epoch 4/10\n",
      "1470/1470 [==============================] - 1s 720us/step - loss: 0.6863 - accuracy: 0.5524 - val_loss: 0.6957 - val_accuracy: 0.5032\n",
      "Epoch 5/10\n",
      "1470/1470 [==============================] - 1s 758us/step - loss: 0.6827 - accuracy: 0.5517 - val_loss: 0.6971 - val_accuracy: 0.4873\n",
      "Epoch 6/10\n",
      "1470/1470 [==============================] - 1s 715us/step - loss: 0.6786 - accuracy: 0.5571 - val_loss: 0.6997 - val_accuracy: 0.4889\n",
      "Epoch 7/10\n",
      "1470/1470 [==============================] - 1s 726us/step - loss: 0.6741 - accuracy: 0.5748 - val_loss: 0.6977 - val_accuracy: 0.5127\n",
      "Epoch 8/10\n",
      "1470/1470 [==============================] - 1s 727us/step - loss: 0.6693 - accuracy: 0.5925 - val_loss: 0.6994 - val_accuracy: 0.5143\n",
      "Epoch 9/10\n",
      "1470/1470 [==============================] - 1s 721us/step - loss: 0.6629 - accuracy: 0.5959 - val_loss: 0.7059 - val_accuracy: 0.5063\n",
      "Epoch 10/10\n",
      "1470/1470 [==============================] - 1s 748us/step - loss: 0.6573 - accuracy: 0.6020 - val_loss: 0.7067 - val_accuracy: 0.5222\n",
      "5000\n"
     ]
    },
    {
     "name": "stderr",
     "output_type": "stream",
     "text": [
      "[Parallel(n_jobs=1)]: Using backend SequentialBackend with 1 concurrent workers.\n",
      "[Parallel(n_jobs=1)]: Done  64 out of  64 | elapsed:    0.6s finished\n",
      "[Parallel(n_jobs=1)]: Using backend SequentialBackend with 1 concurrent workers.\n",
      "[Parallel(n_jobs=1)]: Done  64 out of  64 | elapsed:    0.0s finished\n"
     ]
    },
    {
     "name": "stdout",
     "output_type": "stream",
     "text": [
      "Epoch 1/10\n",
      "2450/2450 [==============================] - 2s 737us/step - loss: 0.6988 - accuracy: 0.5061 - val_loss: 0.6984 - val_accuracy: 0.5057\n",
      "Epoch 2/10\n",
      "2450/2450 [==============================] - 2s 736us/step - loss: 0.6898 - accuracy: 0.5302 - val_loss: 0.6947 - val_accuracy: 0.5086\n",
      "Epoch 3/10\n",
      "2450/2450 [==============================] - 2s 711us/step - loss: 0.6790 - accuracy: 0.5682 - val_loss: 0.6872 - val_accuracy: 0.5390\n",
      "Epoch 4/10\n",
      "2450/2450 [==============================] - 2s 714us/step - loss: 0.6578 - accuracy: 0.6135 - val_loss: 0.6651 - val_accuracy: 0.5905\n",
      "Epoch 5/10\n",
      "2450/2450 [==============================] - 2s 799us/step - loss: 0.6259 - accuracy: 0.6620 - val_loss: 0.6384 - val_accuracy: 0.6124\n",
      "Epoch 6/10\n",
      "2450/2450 [==============================] - 2s 746us/step - loss: 0.5935 - accuracy: 0.6951 - val_loss: 0.6014 - val_accuracy: 0.6743\n",
      "Epoch 7/10\n",
      "2450/2450 [==============================] - 2s 746us/step - loss: 0.5582 - accuracy: 0.7245 - val_loss: 0.5655 - val_accuracy: 0.7152\n",
      "Epoch 8/10\n",
      "2450/2450 [==============================] - 2s 744us/step - loss: 0.5231 - accuracy: 0.7531 - val_loss: 0.5283 - val_accuracy: 0.7305\n",
      "Epoch 9/10\n",
      "2450/2450 [==============================] - 2s 714us/step - loss: 0.4869 - accuracy: 0.7718 - val_loss: 0.4877 - val_accuracy: 0.7714\n",
      "Epoch 10/10\n",
      "2450/2450 [==============================] - 2s 739us/step - loss: 0.4526 - accuracy: 0.7890 - val_loss: 0.4483 - val_accuracy: 0.7905\n",
      "7000\n"
     ]
    },
    {
     "name": "stderr",
     "output_type": "stream",
     "text": [
      "[Parallel(n_jobs=1)]: Using backend SequentialBackend with 1 concurrent workers.\n",
      "[Parallel(n_jobs=1)]: Done  64 out of  64 | elapsed:    0.9s finished\n",
      "[Parallel(n_jobs=1)]: Using backend SequentialBackend with 1 concurrent workers.\n",
      "[Parallel(n_jobs=1)]: Done  64 out of  64 | elapsed:    0.0s finished\n"
     ]
    },
    {
     "name": "stdout",
     "output_type": "stream",
     "text": [
      "Epoch 1/10\n",
      "3430/3430 [==============================] - 2s 726us/step - loss: 0.6937 - accuracy: 0.5222 - val_loss: 0.6938 - val_accuracy: 0.5197\n",
      "Epoch 2/10\n",
      "3430/3430 [==============================] - 2s 721us/step - loss: 0.6875 - accuracy: 0.5329 - val_loss: 0.6934 - val_accuracy: 0.5395\n",
      "Epoch 3/10\n",
      "3430/3430 [==============================] - 2s 709us/step - loss: 0.6829 - accuracy: 0.5519 - val_loss: 0.6944 - val_accuracy: 0.5476\n",
      "Epoch 4/10\n",
      "3430/3430 [==============================] - 2s 725us/step - loss: 0.6786 - accuracy: 0.5685 - val_loss: 0.6972 - val_accuracy: 0.5306\n",
      "Epoch 5/10\n",
      "3430/3430 [==============================] - 2s 704us/step - loss: 0.6747 - accuracy: 0.5741 - val_loss: 0.6991 - val_accuracy: 0.5293\n",
      "Epoch 6/10\n",
      "3430/3430 [==============================] - 2s 718us/step - loss: 0.6680 - accuracy: 0.5843 - val_loss: 0.6936 - val_accuracy: 0.5320\n",
      "Epoch 7/10\n",
      "3430/3430 [==============================] - 2s 706us/step - loss: 0.6540 - accuracy: 0.6076 - val_loss: 0.6808 - val_accuracy: 0.5565\n",
      "Epoch 8/10\n",
      "3430/3430 [==============================] - 2s 721us/step - loss: 0.6308 - accuracy: 0.6420 - val_loss: 0.6595 - val_accuracy: 0.6014\n",
      "Epoch 9/10\n",
      "3430/3430 [==============================] - 2s 704us/step - loss: 0.6102 - accuracy: 0.6697 - val_loss: 0.6443 - val_accuracy: 0.6170\n",
      "Epoch 10/10\n",
      "3430/3430 [==============================] - 2s 726us/step - loss: 0.5938 - accuracy: 0.6732 - val_loss: 0.6325 - val_accuracy: 0.6395\n",
      "10000\n"
     ]
    },
    {
     "name": "stderr",
     "output_type": "stream",
     "text": [
      "[Parallel(n_jobs=1)]: Using backend SequentialBackend with 1 concurrent workers.\n",
      "[Parallel(n_jobs=1)]: Done  64 out of  64 | elapsed:    1.4s finished\n",
      "[Parallel(n_jobs=1)]: Using backend SequentialBackend with 1 concurrent workers.\n",
      "[Parallel(n_jobs=1)]: Done  64 out of  64 | elapsed:    0.0s finished\n"
     ]
    },
    {
     "name": "stdout",
     "output_type": "stream",
     "text": [
      "Epoch 1/10\n",
      "4900/4900 [==============================] - 4s 729us/step - loss: 0.6992 - accuracy: 0.4951 - val_loss: 0.6946 - val_accuracy: 0.4952\n",
      "Epoch 2/10\n",
      "4900/4900 [==============================] - 3s 711us/step - loss: 0.6906 - accuracy: 0.5202 - val_loss: 0.6862 - val_accuracy: 0.5200\n",
      "Epoch 3/10\n",
      "4900/4900 [==============================] - 4s 726us/step - loss: 0.6737 - accuracy: 0.5563 - val_loss: 0.6583 - val_accuracy: 0.6010\n",
      "Epoch 4/10\n",
      "4900/4900 [==============================] - 4s 728us/step - loss: 0.6320 - accuracy: 0.6402 - val_loss: 0.5983 - val_accuracy: 0.6738\n",
      "Epoch 5/10\n",
      "4900/4900 [==============================] - 4s 730us/step - loss: 0.5523 - accuracy: 0.7302 - val_loss: 0.5065 - val_accuracy: 0.7629\n",
      "Epoch 6/10\n",
      "4900/4900 [==============================] - 4s 721us/step - loss: 0.4677 - accuracy: 0.7910 - val_loss: 0.4303 - val_accuracy: 0.8152\n",
      "Epoch 7/10\n",
      "4900/4900 [==============================] - 4s 725us/step - loss: 0.3987 - accuracy: 0.8400 - val_loss: 0.3739 - val_accuracy: 0.8495\n",
      "Epoch 8/10\n",
      "4900/4900 [==============================] - 4s 730us/step - loss: 0.3448 - accuracy: 0.8606 - val_loss: 0.3344 - val_accuracy: 0.8538\n",
      "Epoch 9/10\n",
      "4900/4900 [==============================] - 4s 715us/step - loss: 0.2989 - accuracy: 0.8790 - val_loss: 0.2893 - val_accuracy: 0.8890\n",
      "Epoch 10/10\n",
      "4900/4900 [==============================] - 4s 724us/step - loss: 0.2585 - accuracy: 0.9014 - val_loss: 0.2515 - val_accuracy: 0.8976\n",
      "15000\n"
     ]
    },
    {
     "name": "stderr",
     "output_type": "stream",
     "text": [
      "[Parallel(n_jobs=1)]: Using backend SequentialBackend with 1 concurrent workers.\n",
      "[Parallel(n_jobs=1)]: Done  64 out of  64 | elapsed:    2.2s finished\n",
      "[Parallel(n_jobs=1)]: Using backend SequentialBackend with 1 concurrent workers.\n",
      "[Parallel(n_jobs=1)]: Done  64 out of  64 | elapsed:    0.0s finished\n"
     ]
    },
    {
     "name": "stdout",
     "output_type": "stream",
     "text": [
      "Epoch 1/10\n",
      "7349/7349 [==============================] - 5s 725us/step - loss: 0.6946 - accuracy: 0.5043 - val_loss: 0.6956 - val_accuracy: 0.5106\n",
      "Epoch 2/10\n",
      "7349/7349 [==============================] - 5s 718us/step - loss: 0.6616 - accuracy: 0.5934 - val_loss: 0.5900 - val_accuracy: 0.7071\n",
      "Epoch 3/10\n",
      "7349/7349 [==============================] - 5s 710us/step - loss: 0.4801 - accuracy: 0.7827 - val_loss: 0.3764 - val_accuracy: 0.8439\n",
      "Epoch 4/10\n",
      "7349/7349 [==============================] - 5s 715us/step - loss: 0.3004 - accuracy: 0.8796 - val_loss: 0.2501 - val_accuracy: 0.8946\n",
      "Epoch 5/10\n",
      "7349/7349 [==============================] - 5s 721us/step - loss: 0.2207 - accuracy: 0.9046 - val_loss: 0.1927 - val_accuracy: 0.9178\n",
      "Epoch 6/10\n",
      "7349/7349 [==============================] - 5s 726us/step - loss: 0.1800 - accuracy: 0.9256 - val_loss: 0.1673 - val_accuracy: 0.9346\n",
      "Epoch 7/10\n",
      "7349/7349 [==============================] - 5s 725us/step - loss: 0.1573 - accuracy: 0.9322 - val_loss: 0.1489 - val_accuracy: 0.9327\n",
      "Epoch 8/10\n",
      "7349/7349 [==============================] - 5s 722us/step - loss: 0.1404 - accuracy: 0.9403 - val_loss: 0.1358 - val_accuracy: 0.9445\n",
      "Epoch 9/10\n",
      "7349/7349 [==============================] - 5s 725us/step - loss: 0.1265 - accuracy: 0.9472 - val_loss: 0.1147 - val_accuracy: 0.9524\n",
      "Epoch 10/10\n",
      "7349/7349 [==============================] - 5s 727us/step - loss: 0.1110 - accuracy: 0.9541 - val_loss: 0.1120 - val_accuracy: 0.9511\n",
      "20000\n"
     ]
    },
    {
     "name": "stderr",
     "output_type": "stream",
     "text": [
      "[Parallel(n_jobs=1)]: Using backend SequentialBackend with 1 concurrent workers.\n",
      "[Parallel(n_jobs=1)]: Done  64 out of  64 | elapsed:    3.3s finished\n",
      "[Parallel(n_jobs=1)]: Using backend SequentialBackend with 1 concurrent workers.\n",
      "[Parallel(n_jobs=1)]: Done  64 out of  64 | elapsed:    0.1s finished\n"
     ]
    },
    {
     "name": "stdout",
     "output_type": "stream",
     "text": [
      "Epoch 1/10\n",
      "9800/9800 [==============================] - 7s 743us/step - loss: 0.6870 - accuracy: 0.5365 - val_loss: 0.6531 - val_accuracy: 0.6300\n",
      "Epoch 2/10\n",
      "9800/9800 [==============================] - 7s 723us/step - loss: 0.5389 - accuracy: 0.7276 - val_loss: 0.3826 - val_accuracy: 0.8345\n",
      "Epoch 3/10\n",
      "9800/9800 [==============================] - 7s 711us/step - loss: 0.2916 - accuracy: 0.8822 - val_loss: 0.2309 - val_accuracy: 0.9055\n",
      "Epoch 4/10\n",
      "9800/9800 [==============================] - 7s 726us/step - loss: 0.2083 - accuracy: 0.9177 - val_loss: 0.1763 - val_accuracy: 0.9286\n",
      "Epoch 5/10\n",
      "9800/9800 [==============================] - 7s 718us/step - loss: 0.1691 - accuracy: 0.9308 - val_loss: 0.1621 - val_accuracy: 0.9348\n",
      "Epoch 6/10\n",
      "9800/9800 [==============================] - 7s 717us/step - loss: 0.1500 - accuracy: 0.9395 - val_loss: 0.1417 - val_accuracy: 0.9402\n",
      "Epoch 7/10\n",
      "9800/9800 [==============================] - 7s 719us/step - loss: 0.1373 - accuracy: 0.9430 - val_loss: 0.1228 - val_accuracy: 0.9450\n",
      "Epoch 8/10\n",
      "9800/9800 [==============================] - 7s 724us/step - loss: 0.1285 - accuracy: 0.9456 - val_loss: 0.1261 - val_accuracy: 0.9414\n",
      "Epoch 9/10\n",
      "9800/9800 [==============================] - 7s 725us/step - loss: 0.1234 - accuracy: 0.9466 - val_loss: 0.1204 - val_accuracy: 0.9450\n",
      "Epoch 10/10\n",
      "9800/9800 [==============================] - 7s 722us/step - loss: 0.1185 - accuracy: 0.9488 - val_loss: 0.1168 - val_accuracy: 0.9488\n",
      "30000\n"
     ]
    },
    {
     "name": "stderr",
     "output_type": "stream",
     "text": [
      "[Parallel(n_jobs=1)]: Using backend SequentialBackend with 1 concurrent workers.\n",
      "[Parallel(n_jobs=1)]: Done  64 out of  64 | elapsed:    5.6s finished\n",
      "[Parallel(n_jobs=1)]: Using backend SequentialBackend with 1 concurrent workers.\n",
      "[Parallel(n_jobs=1)]: Done  64 out of  64 | elapsed:    0.1s finished\n"
     ]
    },
    {
     "name": "stdout",
     "output_type": "stream",
     "text": [
      "Epoch 1/10\n",
      "14699/14699 [==============================] - 11s 725us/step - loss: 0.6880 - accuracy: 0.5242 - val_loss: 0.6279 - val_accuracy: 0.6821\n",
      "Epoch 2/10\n",
      "14699/14699 [==============================] - 11s 718us/step - loss: 0.3325 - accuracy: 0.8618 - val_loss: 0.1318 - val_accuracy: 0.9633\n",
      "Epoch 3/10\n",
      "14699/14699 [==============================] - 11s 747us/step - loss: 0.1061 - accuracy: 0.9646 - val_loss: 0.0819 - val_accuracy: 0.9725\n",
      "Epoch 4/10\n",
      "14699/14699 [==============================] - 11s 759us/step - loss: 0.0762 - accuracy: 0.9718 - val_loss: 0.0687 - val_accuracy: 0.9743\n",
      "Epoch 5/10\n",
      "14699/14699 [==============================] - 11s 727us/step - loss: 0.0662 - accuracy: 0.9735 - val_loss: 0.0570 - val_accuracy: 0.9787\n",
      "Epoch 6/10\n",
      "14699/14699 [==============================] - 11s 719us/step - loss: 0.0593 - accuracy: 0.9754 - val_loss: 0.0553 - val_accuracy: 0.9768\n",
      "Epoch 7/10\n",
      "14699/14699 [==============================] - 11s 728us/step - loss: 0.0553 - accuracy: 0.9765 - val_loss: 0.0640 - val_accuracy: 0.9697\n",
      "Epoch 8/10\n",
      "14699/14699 [==============================] - 11s 738us/step - loss: 0.0524 - accuracy: 0.9779 - val_loss: 0.0443 - val_accuracy: 0.9833\n",
      "Epoch 9/10\n",
      "14699/14699 [==============================] - 11s 746us/step - loss: 0.0497 - accuracy: 0.9789 - val_loss: 0.0482 - val_accuracy: 0.9783\n",
      "Epoch 10/10\n",
      "14699/14699 [==============================] - 11s 739us/step - loss: 0.0481 - accuracy: 0.9790 - val_loss: 0.0506 - val_accuracy: 0.9786\n",
      "3\n",
      "500\n",
      "Epoch 1/10\n"
     ]
    },
    {
     "name": "stderr",
     "output_type": "stream",
     "text": [
      "[Parallel(n_jobs=1)]: Using backend SequentialBackend with 1 concurrent workers.\n",
      "[Parallel(n_jobs=1)]: Done  64 out of  64 | elapsed:    0.1s finished\n",
      "[Parallel(n_jobs=1)]: Using backend SequentialBackend with 1 concurrent workers.\n",
      "[Parallel(n_jobs=1)]: Done  64 out of  64 | elapsed:    0.0s finished\n"
     ]
    },
    {
     "name": "stdout",
     "output_type": "stream",
     "text": [
      "244/244 [==============================] - 0s 1ms/step - loss: 0.7364 - accuracy: 0.4549 - val_loss: 0.7087 - val_accuracy: 0.5189\n",
      "Epoch 2/10\n",
      "244/244 [==============================] - 0s 845us/step - loss: 0.7071 - accuracy: 0.4877 - val_loss: 0.6980 - val_accuracy: 0.5000\n",
      "Epoch 3/10\n",
      "244/244 [==============================] - 0s 945us/step - loss: 0.6916 - accuracy: 0.5410 - val_loss: 0.6932 - val_accuracy: 0.5189\n",
      "Epoch 4/10\n",
      "244/244 [==============================] - 0s 911us/step - loss: 0.6814 - accuracy: 0.5492 - val_loss: 0.6912 - val_accuracy: 0.4717\n",
      "Epoch 5/10\n",
      "244/244 [==============================] - 0s 822us/step - loss: 0.6737 - accuracy: 0.5820 - val_loss: 0.6872 - val_accuracy: 0.4811\n",
      "Epoch 6/10\n",
      "244/244 [==============================] - 0s 861us/step - loss: 0.6652 - accuracy: 0.6066 - val_loss: 0.6860 - val_accuracy: 0.4717\n",
      "Epoch 7/10\n",
      "244/244 [==============================] - 0s 812us/step - loss: 0.6579 - accuracy: 0.6025 - val_loss: 0.6850 - val_accuracy: 0.4528\n",
      "Epoch 8/10\n",
      "244/244 [==============================] - 0s 824us/step - loss: 0.6494 - accuracy: 0.5943 - val_loss: 0.6836 - val_accuracy: 0.4623\n",
      "Epoch 9/10\n",
      "244/244 [==============================] - 0s 825us/step - loss: 0.6386 - accuracy: 0.6230 - val_loss: 0.6824 - val_accuracy: 0.4811\n",
      "Epoch 10/10\n",
      "244/244 [==============================] - 0s 854us/step - loss: 0.6292 - accuracy: 0.6352 - val_loss: 0.6851 - val_accuracy: 0.5000\n",
      "1000\n",
      "Epoch 1/10\n"
     ]
    },
    {
     "name": "stderr",
     "output_type": "stream",
     "text": [
      "[Parallel(n_jobs=1)]: Using backend SequentialBackend with 1 concurrent workers.\n",
      "[Parallel(n_jobs=1)]: Done  64 out of  64 | elapsed:    0.1s finished\n",
      "[Parallel(n_jobs=1)]: Using backend SequentialBackend with 1 concurrent workers.\n",
      "[Parallel(n_jobs=1)]: Done  64 out of  64 | elapsed:    0.0s finished\n"
     ]
    },
    {
     "name": "stdout",
     "output_type": "stream",
     "text": [
      "489/489 [==============================] - 0s 879us/step - loss: 0.6986 - accuracy: 0.5051 - val_loss: 0.7032 - val_accuracy: 0.4692\n",
      "Epoch 2/10\n",
      "489/489 [==============================] - 0s 800us/step - loss: 0.6896 - accuracy: 0.5133 - val_loss: 0.7018 - val_accuracy: 0.5355\n",
      "Epoch 3/10\n",
      "489/489 [==============================] - 0s 772us/step - loss: 0.6846 - accuracy: 0.5501 - val_loss: 0.6989 - val_accuracy: 0.4834\n",
      "Epoch 4/10\n",
      "489/489 [==============================] - 0s 803us/step - loss: 0.6800 - accuracy: 0.5644 - val_loss: 0.6986 - val_accuracy: 0.4976\n",
      "Epoch 5/10\n",
      "489/489 [==============================] - 0s 770us/step - loss: 0.6751 - accuracy: 0.5706 - val_loss: 0.7001 - val_accuracy: 0.5166\n",
      "Epoch 6/10\n",
      "489/489 [==============================] - 0s 782us/step - loss: 0.6698 - accuracy: 0.5930 - val_loss: 0.6972 - val_accuracy: 0.4692\n",
      "Epoch 7/10\n",
      "489/489 [==============================] - 0s 773us/step - loss: 0.6645 - accuracy: 0.6115 - val_loss: 0.6977 - val_accuracy: 0.4692\n",
      "Epoch 8/10\n",
      "489/489 [==============================] - 0s 762us/step - loss: 0.6574 - accuracy: 0.5951 - val_loss: 0.6955 - val_accuracy: 0.4739\n",
      "Epoch 9/10\n",
      "489/489 [==============================] - 0s 772us/step - loss: 0.6512 - accuracy: 0.6258 - val_loss: 0.6981 - val_accuracy: 0.4882\n",
      "Epoch 10/10\n",
      "489/489 [==============================] - 0s 783us/step - loss: 0.6446 - accuracy: 0.6176 - val_loss: 0.6976 - val_accuracy: 0.4787\n",
      "2000\n"
     ]
    },
    {
     "name": "stderr",
     "output_type": "stream",
     "text": [
      "[Parallel(n_jobs=1)]: Using backend SequentialBackend with 1 concurrent workers.\n",
      "[Parallel(n_jobs=1)]: Done  64 out of  64 | elapsed:    0.2s finished\n",
      "[Parallel(n_jobs=1)]: Using backend SequentialBackend with 1 concurrent workers.\n",
      "[Parallel(n_jobs=1)]: Done  64 out of  64 | elapsed:    0.0s finished\n"
     ]
    },
    {
     "name": "stdout",
     "output_type": "stream",
     "text": [
      "Epoch 1/10\n",
      "979/979 [==============================] - 1s 806us/step - loss: 0.7060 - accuracy: 0.4831 - val_loss: 0.7019 - val_accuracy: 0.4822\n",
      "Epoch 2/10\n",
      "979/979 [==============================] - 1s 765us/step - loss: 0.6935 - accuracy: 0.5046 - val_loss: 0.6994 - val_accuracy: 0.5131\n",
      "Epoch 3/10\n",
      "979/979 [==============================] - 1s 761us/step - loss: 0.6874 - accuracy: 0.5536 - val_loss: 0.6987 - val_accuracy: 0.4988\n",
      "Epoch 4/10\n",
      "979/979 [==============================] - 1s 785us/step - loss: 0.6831 - accuracy: 0.5526 - val_loss: 0.7008 - val_accuracy: 0.4941\n",
      "Epoch 5/10\n",
      "979/979 [==============================] - 1s 806us/step - loss: 0.6788 - accuracy: 0.5679 - val_loss: 0.7009 - val_accuracy: 0.4846\n",
      "Epoch 6/10\n",
      "979/979 [==============================] - 1s 826us/step - loss: 0.6738 - accuracy: 0.5781 - val_loss: 0.7060 - val_accuracy: 0.4917\n",
      "Epoch 7/10\n",
      "979/979 [==============================] - 1s 798us/step - loss: 0.6692 - accuracy: 0.5822 - val_loss: 0.7049 - val_accuracy: 0.4917\n",
      "Epoch 8/10\n",
      "979/979 [==============================] - 1s 745us/step - loss: 0.6636 - accuracy: 0.5986 - val_loss: 0.7124 - val_accuracy: 0.4917\n",
      "Epoch 9/10\n",
      "979/979 [==============================] - 1s 757us/step - loss: 0.6590 - accuracy: 0.6006 - val_loss: 0.7082 - val_accuracy: 0.4917\n",
      "Epoch 10/10\n",
      "979/979 [==============================] - 1s 748us/step - loss: 0.6564 - accuracy: 0.5975 - val_loss: 0.7120 - val_accuracy: 0.5154\n",
      "3000\n"
     ]
    },
    {
     "name": "stderr",
     "output_type": "stream",
     "text": [
      "[Parallel(n_jobs=1)]: Using backend SequentialBackend with 1 concurrent workers.\n",
      "[Parallel(n_jobs=1)]: Done  64 out of  64 | elapsed:    0.3s finished\n",
      "[Parallel(n_jobs=1)]: Using backend SequentialBackend with 1 concurrent workers.\n",
      "[Parallel(n_jobs=1)]: Done  64 out of  64 | elapsed:    0.0s finished\n"
     ]
    },
    {
     "name": "stdout",
     "output_type": "stream",
     "text": [
      "Epoch 1/10\n",
      "1470/1470 [==============================] - 1s 773us/step - loss: 0.6986 - accuracy: 0.5224 - val_loss: 0.6948 - val_accuracy: 0.5048\n",
      "Epoch 2/10\n",
      "1470/1470 [==============================] - 1s 766us/step - loss: 0.6895 - accuracy: 0.5340 - val_loss: 0.6931 - val_accuracy: 0.5397\n",
      "Epoch 3/10\n",
      "1470/1470 [==============================] - 1s 740us/step - loss: 0.6852 - accuracy: 0.5490 - val_loss: 0.6934 - val_accuracy: 0.5238\n",
      "Epoch 4/10\n",
      "1470/1470 [==============================] - 1s 744us/step - loss: 0.6813 - accuracy: 0.5639 - val_loss: 0.6926 - val_accuracy: 0.5190\n",
      "Epoch 5/10\n",
      "1470/1470 [==============================] - 1s 745us/step - loss: 0.6766 - accuracy: 0.5857 - val_loss: 0.6966 - val_accuracy: 0.5143\n",
      "Epoch 6/10\n",
      "1470/1470 [==============================] - 1s 747us/step - loss: 0.6725 - accuracy: 0.5946 - val_loss: 0.6946 - val_accuracy: 0.5000\n",
      "Epoch 7/10\n",
      "1470/1470 [==============================] - 1s 759us/step - loss: 0.6651 - accuracy: 0.6109 - val_loss: 0.6912 - val_accuracy: 0.5286\n",
      "Epoch 8/10\n",
      "1470/1470 [==============================] - 1s 737us/step - loss: 0.6593 - accuracy: 0.6231 - val_loss: 0.6934 - val_accuracy: 0.5524\n",
      "Epoch 9/10\n",
      "1470/1470 [==============================] - 1s 744us/step - loss: 0.6533 - accuracy: 0.6347 - val_loss: 0.6959 - val_accuracy: 0.5413\n",
      "Epoch 10/10\n",
      "1470/1470 [==============================] - 1s 734us/step - loss: 0.6485 - accuracy: 0.6299 - val_loss: 0.6967 - val_accuracy: 0.5460\n",
      "5000\n"
     ]
    },
    {
     "name": "stderr",
     "output_type": "stream",
     "text": [
      "[Parallel(n_jobs=1)]: Using backend SequentialBackend with 1 concurrent workers.\n",
      "[Parallel(n_jobs=1)]: Done  64 out of  64 | elapsed:    0.6s finished\n",
      "[Parallel(n_jobs=1)]: Using backend SequentialBackend with 1 concurrent workers.\n",
      "[Parallel(n_jobs=1)]: Done  64 out of  64 | elapsed:    0.0s finished\n"
     ]
    },
    {
     "name": "stdout",
     "output_type": "stream",
     "text": [
      "Epoch 1/10\n",
      "2450/2450 [==============================] - 2s 770us/step - loss: 0.6948 - accuracy: 0.5024 - val_loss: 0.6900 - val_accuracy: 0.5476\n",
      "Epoch 2/10\n",
      "2450/2450 [==============================] - 2s 748us/step - loss: 0.6892 - accuracy: 0.5302 - val_loss: 0.6890 - val_accuracy: 0.5552\n",
      "Epoch 3/10\n",
      "2450/2450 [==============================] - 2s 770us/step - loss: 0.6851 - accuracy: 0.5461 - val_loss: 0.6865 - val_accuracy: 0.5514\n",
      "Epoch 4/10\n",
      "2450/2450 [==============================] - 2s 780us/step - loss: 0.6795 - accuracy: 0.5669 - val_loss: 0.6829 - val_accuracy: 0.5467\n",
      "Epoch 5/10\n",
      "2450/2450 [==============================] - 2s 739us/step - loss: 0.6626 - accuracy: 0.6008 - val_loss: 0.6482 - val_accuracy: 0.6476\n",
      "Epoch 6/10\n",
      "2450/2450 [==============================] - 2s 742us/step - loss: 0.6095 - accuracy: 0.6967 - val_loss: 0.5625 - val_accuracy: 0.7610\n",
      "Epoch 7/10\n",
      "2450/2450 [==============================] - 2s 733us/step - loss: 0.5103 - accuracy: 0.7873 - val_loss: 0.4777 - val_accuracy: 0.7724\n",
      "Epoch 8/10\n",
      "2450/2450 [==============================] - 2s 730us/step - loss: 0.4354 - accuracy: 0.8151 - val_loss: 0.4430 - val_accuracy: 0.7876\n",
      "Epoch 9/10\n",
      "2450/2450 [==============================] - 2s 751us/step - loss: 0.3999 - accuracy: 0.8155 - val_loss: 0.4221 - val_accuracy: 0.8038\n",
      "Epoch 10/10\n",
      "2450/2450 [==============================] - 2s 724us/step - loss: 0.3699 - accuracy: 0.8408 - val_loss: 0.3924 - val_accuracy: 0.8171\n",
      "7000\n"
     ]
    },
    {
     "name": "stderr",
     "output_type": "stream",
     "text": [
      "[Parallel(n_jobs=1)]: Using backend SequentialBackend with 1 concurrent workers.\n",
      "[Parallel(n_jobs=1)]: Done  64 out of  64 | elapsed:    0.9s finished\n",
      "[Parallel(n_jobs=1)]: Using backend SequentialBackend with 1 concurrent workers.\n",
      "[Parallel(n_jobs=1)]: Done  64 out of  64 | elapsed:    0.0s finished\n"
     ]
    },
    {
     "name": "stdout",
     "output_type": "stream",
     "text": [
      "Epoch 1/10\n",
      "3430/3430 [==============================] - 3s 751us/step - loss: 0.6950 - accuracy: 0.5047 - val_loss: 0.6906 - val_accuracy: 0.5102\n",
      "Epoch 2/10\n",
      "3430/3430 [==============================] - 3s 746us/step - loss: 0.6847 - accuracy: 0.5420 - val_loss: 0.6801 - val_accuracy: 0.5483\n",
      "Epoch 3/10\n",
      "3430/3430 [==============================] - 3s 737us/step - loss: 0.6455 - accuracy: 0.6120 - val_loss: 0.5943 - val_accuracy: 0.6776\n",
      "Epoch 4/10\n",
      "3430/3430 [==============================] - 3s 737us/step - loss: 0.5171 - accuracy: 0.7589 - val_loss: 0.4680 - val_accuracy: 0.7762\n",
      "Epoch 5/10\n",
      "3430/3430 [==============================] - 3s 731us/step - loss: 0.3974 - accuracy: 0.8286 - val_loss: 0.3673 - val_accuracy: 0.8503\n",
      "Epoch 6/10\n",
      "3430/3430 [==============================] - 3s 731us/step - loss: 0.3060 - accuracy: 0.8848 - val_loss: 0.2742 - val_accuracy: 0.8973\n",
      "Epoch 7/10\n",
      "3430/3430 [==============================] - 2s 725us/step - loss: 0.2399 - accuracy: 0.9155 - val_loss: 0.2204 - val_accuracy: 0.9190\n",
      "Epoch 8/10\n",
      "3430/3430 [==============================] - 3s 729us/step - loss: 0.1991 - accuracy: 0.9265 - val_loss: 0.1895 - val_accuracy: 0.9333\n",
      "Epoch 9/10\n",
      "3430/3430 [==============================] - 2s 727us/step - loss: 0.1739 - accuracy: 0.9382 - val_loss: 0.1636 - val_accuracy: 0.9415\n",
      "Epoch 10/10\n",
      "3430/3430 [==============================] - 3s 742us/step - loss: 0.1572 - accuracy: 0.9431 - val_loss: 0.1625 - val_accuracy: 0.9333\n",
      "10000\n"
     ]
    },
    {
     "name": "stderr",
     "output_type": "stream",
     "text": [
      "[Parallel(n_jobs=1)]: Using backend SequentialBackend with 1 concurrent workers.\n",
      "[Parallel(n_jobs=1)]: Done  64 out of  64 | elapsed:    1.4s finished\n",
      "[Parallel(n_jobs=1)]: Using backend SequentialBackend with 1 concurrent workers.\n",
      "[Parallel(n_jobs=1)]: Done  64 out of  64 | elapsed:    0.0s finished\n"
     ]
    },
    {
     "name": "stdout",
     "output_type": "stream",
     "text": [
      "Epoch 1/10\n",
      "4900/4900 [==============================] - 4s 735us/step - loss: 0.6968 - accuracy: 0.5100 - val_loss: 0.6898 - val_accuracy: 0.5224\n",
      "Epoch 2/10\n",
      "4900/4900 [==============================] - 3s 707us/step - loss: 0.6757 - accuracy: 0.5908 - val_loss: 0.6609 - val_accuracy: 0.6019\n",
      "Epoch 3/10\n",
      "4900/4900 [==============================] - 4s 721us/step - loss: 0.5821 - accuracy: 0.6910 - val_loss: 0.4990 - val_accuracy: 0.7733\n",
      "Epoch 4/10\n",
      "4900/4900 [==============================] - 4s 723us/step - loss: 0.4205 - accuracy: 0.8212 - val_loss: 0.3765 - val_accuracy: 0.8405\n",
      "Epoch 5/10\n",
      "4900/4900 [==============================] - 3s 714us/step - loss: 0.3256 - accuracy: 0.8688 - val_loss: 0.3136 - val_accuracy: 0.8729\n",
      "Epoch 6/10\n",
      "4900/4900 [==============================] - 4s 730us/step - loss: 0.2713 - accuracy: 0.8941 - val_loss: 0.2601 - val_accuracy: 0.8924\n",
      "Epoch 7/10\n",
      "4900/4900 [==============================] - 4s 722us/step - loss: 0.2359 - accuracy: 0.9092 - val_loss: 0.2340 - val_accuracy: 0.9124\n",
      "Epoch 8/10\n",
      "4900/4900 [==============================] - 4s 725us/step - loss: 0.2117 - accuracy: 0.9196 - val_loss: 0.2178 - val_accuracy: 0.9114\n",
      "Epoch 9/10\n",
      "4900/4900 [==============================] - 4s 718us/step - loss: 0.1979 - accuracy: 0.9227 - val_loss: 0.2071 - val_accuracy: 0.9143\n",
      "Epoch 10/10\n",
      "4900/4900 [==============================] - 4s 723us/step - loss: 0.1827 - accuracy: 0.9259 - val_loss: 0.2005 - val_accuracy: 0.9171\n",
      "15000\n"
     ]
    },
    {
     "name": "stderr",
     "output_type": "stream",
     "text": [
      "[Parallel(n_jobs=1)]: Using backend SequentialBackend with 1 concurrent workers.\n",
      "[Parallel(n_jobs=1)]: Done  64 out of  64 | elapsed:    2.5s finished\n",
      "[Parallel(n_jobs=1)]: Using backend SequentialBackend with 1 concurrent workers.\n",
      "[Parallel(n_jobs=1)]: Done  64 out of  64 | elapsed:    0.0s finished\n"
     ]
    },
    {
     "name": "stdout",
     "output_type": "stream",
     "text": [
      "Epoch 1/10\n",
      "7349/7349 [==============================] - 5s 733us/step - loss: 0.6949 - accuracy: 0.4984 - val_loss: 0.6861 - val_accuracy: 0.5195\n",
      "Epoch 2/10\n",
      "7349/7349 [==============================] - 5s 732us/step - loss: 0.6437 - accuracy: 0.6108 - val_loss: 0.5702 - val_accuracy: 0.7210\n",
      "Epoch 3/10\n",
      "7349/7349 [==============================] - 5s 724us/step - loss: 0.4707 - accuracy: 0.7828 - val_loss: 0.3606 - val_accuracy: 0.8420\n",
      "Epoch 4/10\n",
      "7349/7349 [==============================] - 5s 722us/step - loss: 0.2855 - accuracy: 0.8805 - val_loss: 0.2373 - val_accuracy: 0.8988\n",
      "Epoch 5/10\n",
      "7349/7349 [==============================] - 5s 731us/step - loss: 0.2058 - accuracy: 0.9226 - val_loss: 0.2011 - val_accuracy: 0.9067\n",
      "Epoch 6/10\n",
      "7349/7349 [==============================] - 5s 726us/step - loss: 0.1677 - accuracy: 0.9358 - val_loss: 0.1704 - val_accuracy: 0.9283\n",
      "Epoch 7/10\n",
      "7349/7349 [==============================] - 5s 726us/step - loss: 0.1468 - accuracy: 0.9422 - val_loss: 0.1536 - val_accuracy: 0.9334\n",
      "Epoch 8/10\n",
      "7349/7349 [==============================] - 5s 727us/step - loss: 0.1306 - accuracy: 0.9495 - val_loss: 0.1360 - val_accuracy: 0.9403\n",
      "Epoch 9/10\n",
      "7349/7349 [==============================] - 5s 746us/step - loss: 0.1208 - accuracy: 0.9526 - val_loss: 0.1252 - val_accuracy: 0.9505\n",
      "Epoch 10/10\n",
      "7349/7349 [==============================] - 5s 726us/step - loss: 0.1136 - accuracy: 0.9560 - val_loss: 0.1191 - val_accuracy: 0.9483\n",
      "20000\n"
     ]
    },
    {
     "name": "stderr",
     "output_type": "stream",
     "text": [
      "[Parallel(n_jobs=1)]: Using backend SequentialBackend with 1 concurrent workers.\n",
      "[Parallel(n_jobs=1)]: Done  64 out of  64 | elapsed:    3.4s finished\n",
      "[Parallel(n_jobs=1)]: Using backend SequentialBackend with 1 concurrent workers.\n",
      "[Parallel(n_jobs=1)]: Done  64 out of  64 | elapsed:    0.1s finished\n"
     ]
    },
    {
     "name": "stdout",
     "output_type": "stream",
     "text": [
      "Epoch 1/10\n",
      "9800/9800 [==============================] - 7s 723us/step - loss: 0.6919 - accuracy: 0.5157 - val_loss: 0.6716 - val_accuracy: 0.5779\n",
      "Epoch 2/10\n",
      "9800/9800 [==============================] - 7s 719us/step - loss: 0.5467 - accuracy: 0.7213 - val_loss: 0.4210 - val_accuracy: 0.8107\n",
      "Epoch 3/10\n",
      "9800/9800 [==============================] - 7s 721us/step - loss: 0.3033 - accuracy: 0.8764 - val_loss: 0.2226 - val_accuracy: 0.9145\n",
      "Epoch 4/10\n",
      "9800/9800 [==============================] - 7s 723us/step - loss: 0.1746 - accuracy: 0.9376 - val_loss: 0.1520 - val_accuracy: 0.9371\n",
      "Epoch 5/10\n",
      "9800/9800 [==============================] - 7s 724us/step - loss: 0.1259 - accuracy: 0.9556 - val_loss: 0.1177 - val_accuracy: 0.9538\n",
      "Epoch 6/10\n",
      "9800/9800 [==============================] - 7s 735us/step - loss: 0.1005 - accuracy: 0.9627 - val_loss: 0.1104 - val_accuracy: 0.9524\n",
      "Epoch 7/10\n",
      "9800/9800 [==============================] - 7s 722us/step - loss: 0.0892 - accuracy: 0.9664 - val_loss: 0.0888 - val_accuracy: 0.9667\n",
      "Epoch 8/10\n",
      "9800/9800 [==============================] - 7s 745us/step - loss: 0.0804 - accuracy: 0.9690 - val_loss: 0.0810 - val_accuracy: 0.9688\n",
      "Epoch 9/10\n",
      "9800/9800 [==============================] - 7s 724us/step - loss: 0.0735 - accuracy: 0.9728 - val_loss: 0.0869 - val_accuracy: 0.9629\n",
      "Epoch 10/10\n",
      "9800/9800 [==============================] - 7s 723us/step - loss: 0.0700 - accuracy: 0.9707 - val_loss: 0.0806 - val_accuracy: 0.9679\n",
      "30000\n"
     ]
    },
    {
     "name": "stderr",
     "output_type": "stream",
     "text": [
      "[Parallel(n_jobs=1)]: Using backend SequentialBackend with 1 concurrent workers.\n",
      "[Parallel(n_jobs=1)]: Done  64 out of  64 | elapsed:    6.2s finished\n",
      "[Parallel(n_jobs=1)]: Using backend SequentialBackend with 1 concurrent workers.\n",
      "[Parallel(n_jobs=1)]: Done  64 out of  64 | elapsed:    0.1s finished\n"
     ]
    },
    {
     "name": "stdout",
     "output_type": "stream",
     "text": [
      "Epoch 1/10\n",
      "14699/14699 [==============================] - 11s 723us/step - loss: 0.6949 - accuracy: 0.5092 - val_loss: 0.6939 - val_accuracy: 0.5096\n",
      "Epoch 2/10\n",
      "14699/14699 [==============================] - 11s 724us/step - loss: 0.6295 - accuracy: 0.6581 - val_loss: 0.5115 - val_accuracy: 0.7586\n",
      "Epoch 3/10\n",
      "14699/14699 [==============================] - 11s 722us/step - loss: 0.3770 - accuracy: 0.8335 - val_loss: 0.3002 - val_accuracy: 0.8692\n",
      "Epoch 4/10\n",
      "14699/14699 [==============================] - 11s 729us/step - loss: 0.2313 - accuracy: 0.9043 - val_loss: 0.1913 - val_accuracy: 0.9252\n",
      "Epoch 5/10\n",
      "14699/14699 [==============================] - 11s 730us/step - loss: 0.1705 - accuracy: 0.9319 - val_loss: 0.1575 - val_accuracy: 0.9340\n",
      "Epoch 6/10\n",
      "14699/14699 [==============================] - 11s 739us/step - loss: 0.1473 - accuracy: 0.9388 - val_loss: 0.1436 - val_accuracy: 0.9410\n",
      "Epoch 7/10\n",
      "14699/14699 [==============================] - 11s 726us/step - loss: 0.1346 - accuracy: 0.9437 - val_loss: 0.1281 - val_accuracy: 0.9506\n",
      "Epoch 8/10\n",
      "14699/14699 [==============================] - 11s 727us/step - loss: 0.1260 - accuracy: 0.9458 - val_loss: 0.1223 - val_accuracy: 0.9503\n",
      "Epoch 9/10\n",
      "14699/14699 [==============================] - 11s 728us/step - loss: 0.1202 - accuracy: 0.9485 - val_loss: 0.1295 - val_accuracy: 0.9425\n",
      "Epoch 10/10\n",
      "14699/14699 [==============================] - 11s 726us/step - loss: 0.1166 - accuracy: 0.9506 - val_loss: 0.1183 - val_accuracy: 0.9491\n",
      "4\n",
      "500\n",
      "Epoch 1/10\n"
     ]
    },
    {
     "name": "stderr",
     "output_type": "stream",
     "text": [
      "[Parallel(n_jobs=1)]: Using backend SequentialBackend with 1 concurrent workers.\n",
      "[Parallel(n_jobs=1)]: Done  64 out of  64 | elapsed:    0.1s finished\n",
      "[Parallel(n_jobs=1)]: Using backend SequentialBackend with 1 concurrent workers.\n",
      "[Parallel(n_jobs=1)]: Done  64 out of  64 | elapsed:    0.0s finished\n"
     ]
    },
    {
     "name": "stdout",
     "output_type": "stream",
     "text": [
      "244/244 [==============================] - 0s 1ms/step - loss: 0.6982 - accuracy: 0.5041 - val_loss: 0.6921 - val_accuracy: 0.5377\n",
      "Epoch 2/10\n",
      "244/244 [==============================] - 0s 810us/step - loss: 0.6907 - accuracy: 0.5533 - val_loss: 0.6908 - val_accuracy: 0.5472\n",
      "Epoch 3/10\n",
      "244/244 [==============================] - 0s 819us/step - loss: 0.6836 - accuracy: 0.5820 - val_loss: 0.6902 - val_accuracy: 0.5472\n",
      "Epoch 4/10\n",
      "244/244 [==============================] - 0s 793us/step - loss: 0.6780 - accuracy: 0.5861 - val_loss: 0.6893 - val_accuracy: 0.5283\n",
      "Epoch 5/10\n",
      "244/244 [==============================] - 0s 820us/step - loss: 0.6734 - accuracy: 0.6107 - val_loss: 0.6878 - val_accuracy: 0.5283\n",
      "Epoch 6/10\n",
      "244/244 [==============================] - 0s 818us/step - loss: 0.6678 - accuracy: 0.6025 - val_loss: 0.6915 - val_accuracy: 0.5094\n",
      "Epoch 7/10\n",
      "244/244 [==============================] - 0s 827us/step - loss: 0.6628 - accuracy: 0.6066 - val_loss: 0.6941 - val_accuracy: 0.5283\n",
      "Epoch 8/10\n",
      "244/244 [==============================] - 0s 820us/step - loss: 0.6575 - accuracy: 0.6230 - val_loss: 0.6916 - val_accuracy: 0.5377\n",
      "Epoch 9/10\n",
      "244/244 [==============================] - 0s 883us/step - loss: 0.6516 - accuracy: 0.6352 - val_loss: 0.6932 - val_accuracy: 0.5377\n",
      "Epoch 10/10\n",
      "244/244 [==============================] - 0s 857us/step - loss: 0.6448 - accuracy: 0.6311 - val_loss: 0.6973 - val_accuracy: 0.5472\n",
      "1000\n",
      "Epoch 1/10\n"
     ]
    },
    {
     "name": "stderr",
     "output_type": "stream",
     "text": [
      "[Parallel(n_jobs=1)]: Using backend SequentialBackend with 1 concurrent workers.\n",
      "[Parallel(n_jobs=1)]: Done  64 out of  64 | elapsed:    0.1s finished\n",
      "[Parallel(n_jobs=1)]: Using backend SequentialBackend with 1 concurrent workers.\n",
      "[Parallel(n_jobs=1)]: Done  64 out of  64 | elapsed:    0.0s finished\n"
     ]
    },
    {
     "name": "stdout",
     "output_type": "stream",
     "text": [
      "489/489 [==============================] - 0s 893us/step - loss: 0.7068 - accuracy: 0.5031 - val_loss: 0.7048 - val_accuracy: 0.4834\n",
      "Epoch 2/10\n",
      "489/489 [==============================] - 0s 757us/step - loss: 0.6774 - accuracy: 0.5297 - val_loss: 0.7020 - val_accuracy: 0.5024\n",
      "Epoch 3/10\n",
      "489/489 [==============================] - 0s 766us/step - loss: 0.6647 - accuracy: 0.5726 - val_loss: 0.7055 - val_accuracy: 0.5024\n",
      "Epoch 4/10\n",
      "489/489 [==============================] - 0s 767us/step - loss: 0.6547 - accuracy: 0.5869 - val_loss: 0.7082 - val_accuracy: 0.4976\n",
      "Epoch 5/10\n",
      "489/489 [==============================] - 0s 865us/step - loss: 0.6458 - accuracy: 0.6074 - val_loss: 0.7153 - val_accuracy: 0.4976\n",
      "Epoch 6/10\n",
      "489/489 [==============================] - 0s 816us/step - loss: 0.6362 - accuracy: 0.6176 - val_loss: 0.7220 - val_accuracy: 0.5071\n",
      "Epoch 7/10\n",
      "489/489 [==============================] - 0s 803us/step - loss: 0.6267 - accuracy: 0.6319 - val_loss: 0.7325 - val_accuracy: 0.5024\n",
      "Epoch 8/10\n",
      "489/489 [==============================] - 0s 832us/step - loss: 0.6164 - accuracy: 0.6544 - val_loss: 0.7439 - val_accuracy: 0.4976\n",
      "Epoch 9/10\n",
      "489/489 [==============================] - 0s 816us/step - loss: 0.6077 - accuracy: 0.6503 - val_loss: 0.7482 - val_accuracy: 0.5261\n",
      "Epoch 10/10\n",
      "489/489 [==============================] - 0s 889us/step - loss: 0.5972 - accuracy: 0.6626 - val_loss: 0.7636 - val_accuracy: 0.5166\n",
      "2000\n"
     ]
    },
    {
     "name": "stderr",
     "output_type": "stream",
     "text": [
      "[Parallel(n_jobs=1)]: Using backend SequentialBackend with 1 concurrent workers.\n",
      "[Parallel(n_jobs=1)]: Done  64 out of  64 | elapsed:    0.2s finished\n",
      "[Parallel(n_jobs=1)]: Using backend SequentialBackend with 1 concurrent workers.\n",
      "[Parallel(n_jobs=1)]: Done  64 out of  64 | elapsed:    0.0s finished\n"
     ]
    },
    {
     "name": "stdout",
     "output_type": "stream",
     "text": [
      "Epoch 1/10\n",
      "979/979 [==============================] - 1s 829us/step - loss: 0.7005 - accuracy: 0.4852 - val_loss: 0.6929 - val_accuracy: 0.5178\n",
      "Epoch 2/10\n",
      "979/979 [==============================] - 1s 783us/step - loss: 0.6897 - accuracy: 0.5414 - val_loss: 0.6912 - val_accuracy: 0.5368\n",
      "Epoch 3/10\n",
      "979/979 [==============================] - 1s 823us/step - loss: 0.6861 - accuracy: 0.5669 - val_loss: 0.6908 - val_accuracy: 0.5297\n",
      "Epoch 4/10\n",
      "979/979 [==============================] - 1s 793us/step - loss: 0.6832 - accuracy: 0.5853 - val_loss: 0.6910 - val_accuracy: 0.5202\n",
      "Epoch 5/10\n",
      "979/979 [==============================] - 1s 803us/step - loss: 0.6788 - accuracy: 0.5965 - val_loss: 0.6915 - val_accuracy: 0.5344\n",
      "Epoch 6/10\n",
      "979/979 [==============================] - 1s 823us/step - loss: 0.6731 - accuracy: 0.6027 - val_loss: 0.6924 - val_accuracy: 0.5416\n",
      "Epoch 7/10\n",
      "979/979 [==============================] - 1s 745us/step - loss: 0.6669 - accuracy: 0.6088 - val_loss: 0.6936 - val_accuracy: 0.5368\n",
      "Epoch 8/10\n",
      "979/979 [==============================] - 1s 746us/step - loss: 0.6598 - accuracy: 0.5965 - val_loss: 0.6945 - val_accuracy: 0.5511\n",
      "Epoch 9/10\n",
      "979/979 [==============================] - 1s 753us/step - loss: 0.6500 - accuracy: 0.6180 - val_loss: 0.6983 - val_accuracy: 0.5463\n",
      "Epoch 10/10\n",
      "979/979 [==============================] - 1s 734us/step - loss: 0.6424 - accuracy: 0.6221 - val_loss: 0.6973 - val_accuracy: 0.5629\n",
      "3000\n"
     ]
    },
    {
     "name": "stderr",
     "output_type": "stream",
     "text": [
      "[Parallel(n_jobs=1)]: Using backend SequentialBackend with 1 concurrent workers.\n",
      "[Parallel(n_jobs=1)]: Done  64 out of  64 | elapsed:    0.3s finished\n",
      "[Parallel(n_jobs=1)]: Using backend SequentialBackend with 1 concurrent workers.\n",
      "[Parallel(n_jobs=1)]: Done  64 out of  64 | elapsed:    0.0s finished\n"
     ]
    },
    {
     "name": "stdout",
     "output_type": "stream",
     "text": [
      "Epoch 1/10\n",
      "1470/1470 [==============================] - 1s 788us/step - loss: 0.7016 - accuracy: 0.4918 - val_loss: 0.6983 - val_accuracy: 0.4730\n",
      "Epoch 2/10\n",
      "1470/1470 [==============================] - 1s 761us/step - loss: 0.6901 - accuracy: 0.5218 - val_loss: 0.6983 - val_accuracy: 0.4952\n",
      "Epoch 3/10\n",
      "1470/1470 [==============================] - 1s 859us/step - loss: 0.6844 - accuracy: 0.5422 - val_loss: 0.6960 - val_accuracy: 0.4778\n",
      "Epoch 4/10\n",
      "1470/1470 [==============================] - 1s 734us/step - loss: 0.6772 - accuracy: 0.5571 - val_loss: 0.7011 - val_accuracy: 0.5016\n",
      "Epoch 5/10\n",
      "1470/1470 [==============================] - 1s 738us/step - loss: 0.6691 - accuracy: 0.5701 - val_loss: 0.6946 - val_accuracy: 0.5000\n",
      "Epoch 6/10\n",
      "1470/1470 [==============================] - 1s 764us/step - loss: 0.6572 - accuracy: 0.5986 - val_loss: 0.6866 - val_accuracy: 0.5254\n",
      "Epoch 7/10\n",
      "1470/1470 [==============================] - 1s 743us/step - loss: 0.6439 - accuracy: 0.6184 - val_loss: 0.6825 - val_accuracy: 0.5381\n",
      "Epoch 8/10\n",
      "1470/1470 [==============================] - 1s 735us/step - loss: 0.6294 - accuracy: 0.6476 - val_loss: 0.6708 - val_accuracy: 0.5587\n",
      "Epoch 9/10\n",
      "1470/1470 [==============================] - 1s 734us/step - loss: 0.6119 - accuracy: 0.6571 - val_loss: 0.6739 - val_accuracy: 0.5540\n",
      "Epoch 10/10\n",
      "1470/1470 [==============================] - 1s 744us/step - loss: 0.5945 - accuracy: 0.6748 - val_loss: 0.6597 - val_accuracy: 0.5905\n",
      "5000\n"
     ]
    },
    {
     "name": "stderr",
     "output_type": "stream",
     "text": [
      "[Parallel(n_jobs=1)]: Using backend SequentialBackend with 1 concurrent workers.\n",
      "[Parallel(n_jobs=1)]: Done  64 out of  64 | elapsed:    0.6s finished\n",
      "[Parallel(n_jobs=1)]: Using backend SequentialBackend with 1 concurrent workers.\n",
      "[Parallel(n_jobs=1)]: Done  64 out of  64 | elapsed:    0.0s finished\n"
     ]
    },
    {
     "name": "stdout",
     "output_type": "stream",
     "text": [
      "Epoch 1/10\n",
      "2450/2450 [==============================] - 2s 741us/step - loss: 0.6978 - accuracy: 0.5082 - val_loss: 0.6932 - val_accuracy: 0.5286\n",
      "Epoch 2/10\n",
      "2450/2450 [==============================] - 2s 718us/step - loss: 0.6910 - accuracy: 0.5159 - val_loss: 0.6913 - val_accuracy: 0.5286\n",
      "Epoch 3/10\n",
      "2450/2450 [==============================] - 2s 761us/step - loss: 0.6857 - accuracy: 0.5327 - val_loss: 0.6877 - val_accuracy: 0.5371\n",
      "Epoch 4/10\n",
      "2450/2450 [==============================] - 2s 732us/step - loss: 0.6794 - accuracy: 0.5424 - val_loss: 0.6836 - val_accuracy: 0.5276\n",
      "Epoch 5/10\n",
      "2450/2450 [==============================] - 2s 735us/step - loss: 0.6688 - accuracy: 0.5694 - val_loss: 0.6672 - val_accuracy: 0.5657\n",
      "Epoch 6/10\n",
      "2450/2450 [==============================] - 2s 747us/step - loss: 0.6487 - accuracy: 0.5980 - val_loss: 0.6470 - val_accuracy: 0.5952\n",
      "Epoch 7/10\n",
      "2450/2450 [==============================] - 2s 729us/step - loss: 0.6253 - accuracy: 0.6367 - val_loss: 0.6203 - val_accuracy: 0.6295\n",
      "Epoch 8/10\n",
      "2450/2450 [==============================] - 2s 748us/step - loss: 0.5949 - accuracy: 0.6567 - val_loss: 0.5835 - val_accuracy: 0.6619\n",
      "Epoch 9/10\n",
      "2450/2450 [==============================] - 2s 738us/step - loss: 0.5551 - accuracy: 0.7090 - val_loss: 0.5506 - val_accuracy: 0.7190\n",
      "Epoch 10/10\n",
      "2450/2450 [==============================] - 2s 730us/step - loss: 0.5037 - accuracy: 0.7653 - val_loss: 0.4873 - val_accuracy: 0.7657\n",
      "7000\n"
     ]
    },
    {
     "name": "stderr",
     "output_type": "stream",
     "text": [
      "[Parallel(n_jobs=1)]: Using backend SequentialBackend with 1 concurrent workers.\n",
      "[Parallel(n_jobs=1)]: Done  64 out of  64 | elapsed:    0.9s finished\n",
      "[Parallel(n_jobs=1)]: Using backend SequentialBackend with 1 concurrent workers.\n",
      "[Parallel(n_jobs=1)]: Done  64 out of  64 | elapsed:    0.0s finished\n"
     ]
    },
    {
     "name": "stdout",
     "output_type": "stream",
     "text": [
      "Epoch 1/10\n",
      "3430/3430 [==============================] - 3s 751us/step - loss: 0.6974 - accuracy: 0.5187 - val_loss: 0.6990 - val_accuracy: 0.4891\n",
      "Epoch 2/10\n",
      "3430/3430 [==============================] - 3s 754us/step - loss: 0.6908 - accuracy: 0.5283 - val_loss: 0.6962 - val_accuracy: 0.4871\n",
      "Epoch 3/10\n",
      "3430/3430 [==============================] - 3s 763us/step - loss: 0.6879 - accuracy: 0.5391 - val_loss: 0.6960 - val_accuracy: 0.5048\n",
      "Epoch 4/10\n",
      "3430/3430 [==============================] - 3s 751us/step - loss: 0.6855 - accuracy: 0.5367 - val_loss: 0.6981 - val_accuracy: 0.4898\n",
      "Epoch 5/10\n",
      "3430/3430 [==============================] - 3s 746us/step - loss: 0.6825 - accuracy: 0.5554 - val_loss: 0.7003 - val_accuracy: 0.4952\n",
      "Epoch 6/10\n",
      "3430/3430 [==============================] - 3s 778us/step - loss: 0.6790 - accuracy: 0.5612 - val_loss: 0.7029 - val_accuracy: 0.5000\n",
      "Epoch 7/10\n",
      "3430/3430 [==============================] - 2s 724us/step - loss: 0.6758 - accuracy: 0.5732 - val_loss: 0.6961 - val_accuracy: 0.5102\n",
      "Epoch 8/10\n",
      "3430/3430 [==============================] - 3s 732us/step - loss: 0.6673 - accuracy: 0.5834 - val_loss: 0.6848 - val_accuracy: 0.5347\n",
      "Epoch 9/10\n",
      "3430/3430 [==============================] - 2s 721us/step - loss: 0.6501 - accuracy: 0.6009 - val_loss: 0.6649 - val_accuracy: 0.5857\n",
      "Epoch 10/10\n",
      "3430/3430 [==============================] - 3s 771us/step - loss: 0.6244 - accuracy: 0.6455 - val_loss: 0.6328 - val_accuracy: 0.6197\n",
      "10000\n"
     ]
    },
    {
     "name": "stderr",
     "output_type": "stream",
     "text": [
      "[Parallel(n_jobs=1)]: Using backend SequentialBackend with 1 concurrent workers.\n",
      "[Parallel(n_jobs=1)]: Done  64 out of  64 | elapsed:    1.3s finished\n",
      "[Parallel(n_jobs=1)]: Using backend SequentialBackend with 1 concurrent workers.\n",
      "[Parallel(n_jobs=1)]: Done  64 out of  64 | elapsed:    0.0s finished\n"
     ]
    },
    {
     "name": "stdout",
     "output_type": "stream",
     "text": [
      "Epoch 1/10\n",
      "4900/4900 [==============================] - 4s 739us/step - loss: 0.6992 - accuracy: 0.5041 - val_loss: 0.6920 - val_accuracy: 0.5190\n",
      "Epoch 2/10\n",
      "4900/4900 [==============================] - 4s 717us/step - loss: 0.6853 - accuracy: 0.5382 - val_loss: 0.6812 - val_accuracy: 0.5471\n",
      "Epoch 3/10\n",
      "4900/4900 [==============================] - 4s 732us/step - loss: 0.6551 - accuracy: 0.5982 - val_loss: 0.6353 - val_accuracy: 0.6257\n",
      "Epoch 4/10\n",
      "4900/4900 [==============================] - 4s 731us/step - loss: 0.5838 - accuracy: 0.6796 - val_loss: 0.5577 - val_accuracy: 0.6805\n",
      "Epoch 5/10\n",
      "4900/4900 [==============================] - 4s 730us/step - loss: 0.5223 - accuracy: 0.7310 - val_loss: 0.4937 - val_accuracy: 0.7571\n",
      "Epoch 6/10\n",
      "4900/4900 [==============================] - 4s 733us/step - loss: 0.4535 - accuracy: 0.7953 - val_loss: 0.4237 - val_accuracy: 0.8043\n",
      "Epoch 7/10\n",
      "4900/4900 [==============================] - 4s 729us/step - loss: 0.3779 - accuracy: 0.8486 - val_loss: 0.3493 - val_accuracy: 0.8514\n",
      "Epoch 8/10\n",
      "4900/4900 [==============================] - 4s 731us/step - loss: 0.2932 - accuracy: 0.8920 - val_loss: 0.2666 - val_accuracy: 0.9067\n",
      "Epoch 9/10\n",
      "4900/4900 [==============================] - 4s 722us/step - loss: 0.2201 - accuracy: 0.9286 - val_loss: 0.2114 - val_accuracy: 0.9181\n",
      "Epoch 10/10\n",
      "4900/4900 [==============================] - 4s 727us/step - loss: 0.1746 - accuracy: 0.9449 - val_loss: 0.1825 - val_accuracy: 0.9319\n",
      "15000\n"
     ]
    },
    {
     "name": "stderr",
     "output_type": "stream",
     "text": [
      "[Parallel(n_jobs=1)]: Using backend SequentialBackend with 1 concurrent workers.\n",
      "[Parallel(n_jobs=1)]: Done  64 out of  64 | elapsed:    2.4s finished\n",
      "[Parallel(n_jobs=1)]: Using backend SequentialBackend with 1 concurrent workers.\n",
      "[Parallel(n_jobs=1)]: Done  64 out of  64 | elapsed:    0.0s finished\n"
     ]
    },
    {
     "name": "stdout",
     "output_type": "stream",
     "text": [
      "Epoch 1/10\n",
      "7349/7349 [==============================] - 5s 739us/step - loss: 0.6978 - accuracy: 0.5010 - val_loss: 0.6886 - val_accuracy: 0.5255\n",
      "Epoch 2/10\n",
      "7349/7349 [==============================] - 5s 732us/step - loss: 0.6473 - accuracy: 0.6111 - val_loss: 0.5459 - val_accuracy: 0.7525\n",
      "Epoch 3/10\n",
      "7349/7349 [==============================] - 5s 732us/step - loss: 0.4099 - accuracy: 0.8295 - val_loss: 0.2939 - val_accuracy: 0.8991\n",
      "Epoch 4/10\n",
      "7349/7349 [==============================] - 5s 740us/step - loss: 0.2550 - accuracy: 0.9053 - val_loss: 0.2105 - val_accuracy: 0.9194\n",
      "Epoch 5/10\n",
      "7349/7349 [==============================] - 5s 728us/step - loss: 0.1948 - accuracy: 0.9261 - val_loss: 0.1700 - val_accuracy: 0.9387\n",
      "Epoch 6/10\n",
      "7349/7349 [==============================] - 5s 741us/step - loss: 0.1667 - accuracy: 0.9350 - val_loss: 0.1623 - val_accuracy: 0.9330\n",
      "Epoch 7/10\n",
      "7349/7349 [==============================] - 6s 753us/step - loss: 0.1524 - accuracy: 0.9388 - val_loss: 0.1440 - val_accuracy: 0.9441\n",
      "Epoch 8/10\n",
      "7349/7349 [==============================] - 5s 739us/step - loss: 0.1420 - accuracy: 0.9442 - val_loss: 0.1340 - val_accuracy: 0.9464\n",
      "Epoch 9/10\n",
      "7349/7349 [==============================] - 5s 739us/step - loss: 0.1308 - accuracy: 0.9458 - val_loss: 0.1281 - val_accuracy: 0.9473\n",
      "Epoch 10/10\n",
      "7349/7349 [==============================] - 5s 734us/step - loss: 0.1274 - accuracy: 0.9442 - val_loss: 0.1352 - val_accuracy: 0.9372\n",
      "20000\n"
     ]
    },
    {
     "name": "stderr",
     "output_type": "stream",
     "text": [
      "[Parallel(n_jobs=1)]: Using backend SequentialBackend with 1 concurrent workers.\n",
      "[Parallel(n_jobs=1)]: Done  64 out of  64 | elapsed:    3.3s finished\n",
      "[Parallel(n_jobs=1)]: Using backend SequentialBackend with 1 concurrent workers.\n",
      "[Parallel(n_jobs=1)]: Done  64 out of  64 | elapsed:    0.1s finished\n"
     ]
    },
    {
     "name": "stdout",
     "output_type": "stream",
     "text": [
      "Epoch 1/10\n",
      "9800/9800 [==============================] - 7s 731us/step - loss: 0.6943 - accuracy: 0.4995 - val_loss: 0.6896 - val_accuracy: 0.5343\n",
      "Epoch 2/10\n",
      "9800/9800 [==============================] - 8s 767us/step - loss: 0.6365 - accuracy: 0.6428 - val_loss: 0.5277 - val_accuracy: 0.7574\n",
      "Epoch 3/10\n",
      "9800/9800 [==============================] - 7s 734us/step - loss: 0.3883 - accuracy: 0.8346 - val_loss: 0.2737 - val_accuracy: 0.8971\n",
      "Epoch 4/10\n",
      "9800/9800 [==============================] - 7s 722us/step - loss: 0.2264 - accuracy: 0.9118 - val_loss: 0.1921 - val_accuracy: 0.9267\n",
      "Epoch 5/10\n",
      "9800/9800 [==============================] - 7s 735us/step - loss: 0.1764 - accuracy: 0.9302 - val_loss: 0.1753 - val_accuracy: 0.9283\n",
      "Epoch 6/10\n",
      "9800/9800 [==============================] - 7s 726us/step - loss: 0.1538 - accuracy: 0.9364 - val_loss: 0.1485 - val_accuracy: 0.9371\n",
      "Epoch 7/10\n",
      "9800/9800 [==============================] - 7s 726us/step - loss: 0.1387 - accuracy: 0.9415 - val_loss: 0.1321 - val_accuracy: 0.9476\n",
      "Epoch 8/10\n",
      "9800/9800 [==============================] - 7s 755us/step - loss: 0.1279 - accuracy: 0.9487 - val_loss: 0.1450 - val_accuracy: 0.9395\n",
      "Epoch 9/10\n",
      "9800/9800 [==============================] - 7s 732us/step - loss: 0.1225 - accuracy: 0.9474 - val_loss: 0.1356 - val_accuracy: 0.9410\n",
      "Epoch 10/10\n",
      "9800/9800 [==============================] - 7s 740us/step - loss: 0.1142 - accuracy: 0.9516 - val_loss: 0.1155 - val_accuracy: 0.9519\n",
      "30000\n"
     ]
    },
    {
     "name": "stderr",
     "output_type": "stream",
     "text": [
      "[Parallel(n_jobs=1)]: Using backend SequentialBackend with 1 concurrent workers.\n",
      "[Parallel(n_jobs=1)]: Done  64 out of  64 | elapsed:    5.8s finished\n",
      "[Parallel(n_jobs=1)]: Using backend SequentialBackend with 1 concurrent workers.\n",
      "[Parallel(n_jobs=1)]: Done  64 out of  64 | elapsed:    0.1s finished\n"
     ]
    },
    {
     "name": "stdout",
     "output_type": "stream",
     "text": [
      "Epoch 1/10\n",
      "14699/14699 [==============================] - 11s 737us/step - loss: 0.6865 - accuracy: 0.5277 - val_loss: 0.6404 - val_accuracy: 0.6459\n",
      "Epoch 2/10\n",
      "14699/14699 [==============================] - 11s 732us/step - loss: 0.4436 - accuracy: 0.7913 - val_loss: 0.2823 - val_accuracy: 0.8807\n",
      "Epoch 3/10\n",
      "14699/14699 [==============================] - 11s 751us/step - loss: 0.2118 - accuracy: 0.9141 - val_loss: 0.1811 - val_accuracy: 0.9227\n",
      "Epoch 4/10\n",
      "14699/14699 [==============================] - 11s 735us/step - loss: 0.1601 - accuracy: 0.9316 - val_loss: 0.1474 - val_accuracy: 0.9372\n",
      "Epoch 5/10\n",
      "14699/14699 [==============================] - 11s 767us/step - loss: 0.1360 - accuracy: 0.9429 - val_loss: 0.1326 - val_accuracy: 0.9438\n",
      "Epoch 6/10\n",
      "14699/14699 [==============================] - 11s 767us/step - loss: 0.1215 - accuracy: 0.9480 - val_loss: 0.1132 - val_accuracy: 0.9532\n",
      "Epoch 7/10\n",
      "14699/14699 [==============================] - 11s 747us/step - loss: 0.1095 - accuracy: 0.9538 - val_loss: 0.1064 - val_accuracy: 0.9533\n",
      "Epoch 8/10\n",
      "14699/14699 [==============================] - 11s 760us/step - loss: 0.0999 - accuracy: 0.9582 - val_loss: 0.0995 - val_accuracy: 0.9571\n",
      "Epoch 9/10\n",
      "14699/14699 [==============================] - 11s 760us/step - loss: 0.0932 - accuracy: 0.9599 - val_loss: 0.1018 - val_accuracy: 0.9557\n",
      "Epoch 10/10\n",
      "14699/14699 [==============================] - 11s 748us/step - loss: 0.0897 - accuracy: 0.9609 - val_loss: 0.0852 - val_accuracy: 0.9645\n"
     ]
    }
   ],
   "source": [
    "from sklearn.model_selection import train_test_split\n",
    "\n",
    "X = np.array(X_parity, dtype=np.float32)\n",
    "y = np.array(y_parity, dtype=np.float32)\n",
    "\n",
    "iterations = 5\n",
    "\n",
    "sample_sizes = [500, 1000, 2000, 3000, 5000, 7000, 10000, 15000, 20000, 30000]\n",
    "\n",
    "rf_evolution = np.zeros((len(sample_sizes), iterations))\n",
    "dnn_evolution = np.zeros((len(sample_sizes), iterations))\n",
    "\n",
    "# sample_sizes = [500, 1000, 2000]\n",
    "\n",
    "for iteration in range(iterations):\n",
    "    print(iteration)\n",
    "    \n",
    "    for sample_size_index, max_sample_size in enumerate(sample_sizes):\n",
    "        print(max_sample_size)\n",
    "\n",
    "        X_scaled, y_scaled = random_sample(X, y, max_sample_size)\n",
    "        X_train, X_test, y_train, y_test = train_test_split(X_scaled, y_scaled, test_size=0.3, random_state=101)\n",
    "\n",
    "        rf_model = random_forest_classifier_model(X_train = X_train,\n",
    "                                                  y_train = y_train, \n",
    "                                                  num_trees = 64, \n",
    "                                                  max_depth = 3, \n",
    "                                                  verbose = 1\n",
    "                                                 )\n",
    "        rf_predictions = rf_model.predict(X_test)\n",
    "        rf_error = 1 - accuracy_score(y_test, rf_predictions)\n",
    "\n",
    "        rf_evolution[sample_size_index][iteration] = rf_error\n",
    "\n",
    "    #     y_train=to_categorical(y_train,num_classes=3)\n",
    "    #     y_test=to_categorical(y_test,num_classes=3)\n",
    "\n",
    "        dnn_model = parametric_deep_neural_network(X_train = X_train,\n",
    "                                                   y_train = y_train, \n",
    "                                                   epochs = 10,\n",
    "                                                   batch_size = 1, \n",
    "                                                   learning_rate = 0.001,\n",
    "                                                   validation_split = 0.3,\n",
    "                                                   verbose = 1\n",
    "                                                  )\n",
    "\n",
    "        score = dnn_model.evaluate(X_test, y_test, batch_size=None, verbose=0, sample_weight=None, steps=None,\n",
    "                        callbacks=None, max_queue_size=10, workers=1, use_multiprocessing=False,\n",
    "                        return_dict=False)\n",
    "\n",
    "        dnn_error = 1 - score[1]\n",
    "        dnn_evolution[sample_size_index][iteration] = dnn_error\n"
   ]
  },
  {
   "cell_type": "code",
   "execution_count": 15,
   "metadata": {},
   "outputs": [
    {
     "data": {
      "text/plain": [
       "array([[0.46666667, 0.44666667, 0.46666667, 0.5       , 0.5       ],\n",
       "       [0.46333333, 0.44666667, 0.40666667, 0.48666667, 0.49666667],\n",
       "       [0.45833333, 0.49      , 0.50666667, 0.47833333, 0.51833333],\n",
       "       [0.43333333, 0.46444444, 0.43888889, 0.45222222, 0.44666667],\n",
       "       [0.428     , 0.42266667, 0.412     , 0.36466667, 0.46533333],\n",
       "       [0.39190476, 0.42      , 0.43333333, 0.34666667, 0.43333333],\n",
       "       [0.33866667, 0.32733333, 0.285     , 0.36366667, 0.321     ],\n",
       "       [0.30644444, 0.248     , 0.23      , 0.36422222, 0.31622222],\n",
       "       [0.2935    , 0.38866667, 0.24716667, 0.349     , 0.18383333],\n",
       "       [0.27911111, 0.25811111, 0.16222222, 0.27466667, 0.25277778]])"
      ]
     },
     "execution_count": 15,
     "metadata": {},
     "output_type": "execute_result"
    }
   ],
   "source": [
    "# fig = plt.figure(figsize = (10,7))\n",
    "# ax = plt.subplot(111)\n",
    "\n",
    "# ax.plot(sample_sizes, random_forest_classification_errors, color= 'r')\n",
    "# ax.plot(sample_sizes, parametric_dnn_classification_errors, color= 'b')\n",
    "\n",
    "# plt.title('Sparce Parity', fontsize=14)\n",
    "# plt.ylabel('Classification Error', fontsize=14)\n",
    "# plt.xlabel('Number of Training Samples', fontsize=14)\n",
    "# plt.legend(['RF', 'DN'], prop={'size': 16})\n",
    "\n",
    "# fig.savefig('sparce_parity_1.png')\n"
   ]
  },
  {
   "cell_type": "code",
   "execution_count": 16,
   "metadata": {},
   "outputs": [],
   "source": [
    "# dnn_evolution = parametric_dnn_classification_errors[:10,:]\n",
    "# rf_evolution = random_forest_classification_errors[:10,:]\n",
    "\n",
    "dnn_evolution_mean = np.mean(dnn_evolution, axis = 1)\n",
    "rf_evolution_mean = np.mean(rf_evolution, axis = 1)"
   ]
  },
  {
   "cell_type": "code",
   "execution_count": 22,
   "metadata": {},
   "outputs": [
    {
     "data": {
      "image/png": "[encoded data removed]",
      "text/plain": [
       "<Figure size 720x1152 with 2 Axes>"
      ]
     },
     "metadata": {
      "needs_background": "light"
     },
     "output_type": "display_data"
    }
   ],
   "source": [
    "# Fit 1D curve using B-spline representation\n",
    "\n",
    "from scipy.interpolate import splev, splrep\n",
    "\n",
    "X_spline = np.asarray(sample_sizes)\n",
    "y_spline_dnn = dnn_evolution_mean\n",
    "y_spline_rf = rf_evolution_mean\n",
    "\n",
    "x2 = np.linspace(500,30000,1000)\n",
    "\n",
    "spl_dnn = splrep(X_spline,y_spline_dnn, k=3, s=0.01)\n",
    "y2_dnn = splev(x2, spl_dnn)\n",
    "\n",
    "spl_rf = splrep(X_spline,y_spline_rf, k=3, s=0.01)\n",
    "y2_rf = splev(x2, spl_rf)\n",
    "\n",
    "fig = plt.figure(figsize = (10,16))\n",
    "\n",
    "ax = plt.subplot(211)\n",
    "ax.plot(x2, y2_dnn, 'b')\n",
    "ax.scatter(X_spline, y_spline_dnn) \n",
    "plt.title('DNN', fontsize = 14)\n",
    "plt.xlabel('Number of Training Samples', fontsize = 14)\n",
    "plt.ylabel('Classification Error', fontsize = 14)\n",
    "\n",
    "ax = plt.subplot(212)\n",
    "ax.plot(x2, y2_rf, 'r')\n",
    "ax.scatter(X_spline, y_spline_rf) \n",
    "plt.title('RF', fontsize = 14)\n",
    "plt.xlabel('Number of Training Samples', fontsize = 14)\n",
    "plt.ylabel('Classification Error', fontsize = 14)\n",
    "\n",
    "plt.subplots_adjust(left=None, bottom=None, right=None, top=None, wspace=None, hspace=0.3)"
   ]
  },
  {
   "cell_type": "code",
   "execution_count": 23,
   "metadata": {},
   "outputs": [
    {
     "data": {
      "image/png": "[encoded data removed]",
      "text/plain": [
       "<Figure size 720x576 with 1 Axes>"
      ]
     },
     "metadata": {
      "needs_background": "light"
     },
     "output_type": "display_data"
    }
   ],
   "source": [
    "fig = plt.figure(figsize = (10,8))\n",
    "ax = plt.subplot(111)\n",
    "\n",
    "ax.plot(x2, y2_dnn, 'b', linewidth = 2.5)\n",
    "ax.plot(x2, y2_rf, 'r', linewidth = 2.5)\n",
    "\n",
    "plt.title('Sparce Parity RF vs DN', fontsize = 14)\n",
    "plt.ylabel('Classification Error', fontsize = 14)\n",
    "plt.xlabel('Number of Training Samples', fontsize = 14)\n",
    "plt.legend(['DN', 'RF'], prop={'size': 16})\n",
    "\n",
    "fig.savefig('sparce_parity_2.png')"
   ]
  },
  {
   "cell_type": "code",
   "execution_count": null,
   "metadata": {},
   "outputs": [],
   "source": []
  }
 ],
 "metadata": {
  "kernelspec": {
   "display_name": "Python 3",
   "language": "python",
   "name": "python3"
  },
  "language_info": {
   "codemirror_mode": {
    "name": "ipython",
    "version": 3
   },
   "file_extension": ".py",
   "mimetype": "text/x-python",
   "name": "python",
   "nbconvert_exporter": "python",
   "pygments_lexer": "ipython3",
   "version": "3.7.6"
  }
 },
 "nbformat": 4,
 "nbformat_minor": 4
}
